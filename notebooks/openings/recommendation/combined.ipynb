{
 "cells": [
  {
   "cell_type": "markdown",
   "id": "b50f0735-f0ed-454e-baa6-d9f6a770aec7",
   "metadata": {},
   "source": [
    "# Direct Openings"
   ]
  },
  {
   "cell_type": "code",
   "execution_count": 75,
   "id": "b0f53e78-7426-4e22-8b5e-2a3ad0b4c4a0",
   "metadata": {},
   "outputs": [],
   "source": [
    "import json\n",
    "import pandas as pd\n",
    "import tensorflow as tf\n",
    "from tensorflow.keras.models import load_model\n",
    "import numpy as np\n",
    "\n",
    "model = load_model('../../../models/openings/recommendations.h5')\n",
    "\n",
    "df = pd.read_csv('../../../data/opening_scores.csv')\n",
    "\n",
    "with open('../../../models/openings/user_embeddings.json') as f:\n",
    "    user_embeddings = json.load(f)\n",
    "with open('../../../models/openings/opening_embeddings.json') as f:\n",
    "    opening_embeddings = json.load(f)\n",
    "with open('../../../models/openings/user_bias_embeddings.json') as f:\n",
    "    user_bias_embeddings = json.load(f)\n",
    "with open('../../../models/openings/opening_bias_embeddings.json') as f:\n",
    "    opening_bias_embeddings = json.load(f)"
   ]
  },
  {
   "cell_type": "code",
   "execution_count": 76,
   "id": "ab628a04-d5a2-418e-9da1-f62b7e82af22",
   "metadata": {},
   "outputs": [],
   "source": [
    "def predict(user_id, opening_id):\n",
    "    user_embedding = np.array(user_embeddings[user_id])\n",
    "    opening_embedding = np.array(opening_embeddings[opening_id])\n",
    "\n",
    "    # Passing user embedding and movie embedding through the concat layer\n",
    "    concatenated_embeddings = model.get_layer('concat')([user_embedding, opening_embedding])\n",
    "\n",
    "    # Passing the concatenated embeddings through the dense layers\n",
    "    x = model.get_layer('dense1')(concatenated_embeddings)\n",
    "    x = model.get_layer('dense2')(x)\n",
    "\n",
    "    user_bias_embedding = np.array(user_bias_embeddings[user_id])\n",
    "    opening_bias_embedding = np.array(opening_bias_embeddings[opening_id])\n",
    "\n",
    "    user_bias_embedding = user_bias_embedding[:, tf.newaxis]\n",
    "    opening_bias_embedding = opening_bias_embedding[:, tf.newaxis]\n",
    "\n",
    "    # Combine embeddings, biases, and pass through the output layer\n",
    "    input_tensors = [x, user_bias_embedding, opening_bias_embedding]\n",
    "    concatenated_features = model.get_layer('combined_features')(input_tensors)\n",
    "    \n",
    "    x = model.get_layer('combined_dense1')(concatenated_features)\n",
    "    x = model.get_layer('combined_dense2')(x)\n",
    "    \n",
    "    x = model.get_layer('output')(x)\n",
    "\n",
    "    predicted_rating = x[0][0]\n",
    "\n",
    "    return predicted_rating.numpy()"
   ]
  },
  {
   "cell_type": "code",
   "execution_count": 77,
   "id": "05b5e36d-dc73-4bac-a922-b39a2bcd52cc",
   "metadata": {},
   "outputs": [],
   "source": [
    "def direct_user_recommendations(user_id):\n",
    "    user_ratings = df[df['user_id'] == user_id]\n",
    "    user_ratings = user_ratings[user_ratings['score'] != 1]\n",
    "    \n",
    "    recommendation = df[~df['opening_id'].isin(user_ratings['opening_id'])][['opening_id']].drop_duplicates()\n",
    "    recommendation['score_predict'] = recommendation.apply(lambda x: predict(user_id, x['opening_id']), axis=1)\n",
    "    \n",
    "    recomendations = {}\n",
    "\n",
    "    def df2dict(row):\n",
    "        recomendations[row['opening_id']]=row['score_predict']\n",
    "        \n",
    "    recommendation.apply(df2dict, axis=1)\n",
    "    return recomendations"
   ]
  },
  {
   "cell_type": "code",
   "execution_count": 80,
   "id": "c2932128-b9d9-4718-965d-f00fd85e9734",
   "metadata": {},
   "outputs": [
    {
     "data": {
      "text/plain": [
       "{'d569ec70-f3fa-421c-88db-0773b26a2475': 3.5413594245910645,\n",
       " '1067c159-be01-4f89-a1cf-a32cdd67bb72': 3.5784387588500977}"
      ]
     },
     "execution_count": 80,
     "metadata": {},
     "output_type": "execute_result"
    }
   ],
   "source": [
    "direct_user_recommendations('5f5a90e2-6601-480c-bc08-7592e06beacd')"
   ]
  },
  {
   "cell_type": "markdown",
   "id": "c58decd5-d57b-4dde-a976-77d1539961f0",
   "metadata": {},
   "source": [
    "# Through Projects"
   ]
  },
  {
   "cell_type": "code",
   "execution_count": 82,
   "id": "ab88bc03-9c88-42a7-9708-2a97305b14e6",
   "metadata": {},
   "outputs": [],
   "source": [
    "df = pd.read_csv('../../../data/openings.csv')\n",
    "\n",
    "model = load_model('../../../models/projects/recommendations.h5')\n",
    "\n",
    "with open('../../../models/projects/user_embeddings.json') as f:\n",
    "    user_embeddings = json.load(f)\n",
    "with open('../../../models/projects/project_embeddings.json') as f:\n",
    "    project_embeddings = json.load(f)\n",
    "with open('../../../models/projects/user_bias_embeddings.json') as f:\n",
    "    user_bias_embeddings = json.load(f)\n",
    "with open('../../../models/projects/project_bias_embeddings.json') as f:\n",
    "    project_bias_embeddings = json.load(f)\n",
    "\n",
    "def predict_score(user_id, project_id):\n",
    "    user_embedding = np.array(user_embeddings[user_id])\n",
    "    project_embedding = np.array(project_embeddings[project_id])\n",
    "\n",
    "    # Passing user embedding and movie embedding through the concat layer\n",
    "    concatenated_embeddings = model.get_layer('concat')([user_embedding, project_embedding])\n",
    "\n",
    "    # Passing the concatenated embeddings through the dense layers\n",
    "    x = model.get_layer('dense1')(concatenated_embeddings)\n",
    "    x = model.get_layer('dense2')(x)\n",
    "\n",
    "    user_bias_embedding = np.array(user_bias_embeddings[user_id])\n",
    "    project_bias_embedding = np.array(project_bias_embeddings[project_id])\n",
    "\n",
    "    user_bias_embedding = user_bias_embedding[:, tf.newaxis]\n",
    "    project_bias_embedding = project_bias_embedding[:, tf.newaxis]\n",
    "\n",
    "    # Combine embeddings, biases, and pass through the output layer\n",
    "    input_tensors = [x, user_bias_embedding, project_bias_embedding]\n",
    "    concatenated_features = model.get_layer('combined_features')(input_tensors)\n",
    "    \n",
    "    x = model.get_layer('combined_dense1')(concatenated_features)\n",
    "    x = model.get_layer('combined_dense2')(x)\n",
    "    \n",
    "    x = model.get_layer('output')(x)\n",
    "\n",
    "    predicted_rating = x[0][0]\n",
    "    return predicted_rating.numpy()\n",
    "\n",
    "def recommend_projects(userID):\n",
    "    df = pd.read_csv('../../../data/project_scores.csv')\n",
    "    user_ratings = df[df['user_id'] == userID]\n",
    "    user_ratings = user_ratings[user_ratings['score'] != 1]\n",
    "    recommendation = df[~df['project_id'].isin(user_ratings['project_id'])][['project_id']].drop_duplicates()\n",
    "    recommendation['score_predict'] = recommendation.apply(lambda x: predict_score(userID, x['project_id']), axis=1)\n",
    "    \n",
    "    final_rec = recommendation.sort_values(by='score_predict', ascending=False)\n",
    "    return final_rec['project_id'].values.tolist()"
   ]
  },
  {
   "cell_type": "code",
   "execution_count": 83,
   "id": "a0184034-a1b8-4360-8e59-3269316b1928",
   "metadata": {},
   "outputs": [],
   "source": [
    "import tensorflow as tf\n",
    "\n",
    "with open('../../../models/openings/user_embeddings.json') as f:\n",
    "    user_embeddings = json.load(f)\n",
    "with open('../../../models/openings/opening_embeddings.json') as f:\n",
    "    opening_embeddings = json.load(f)\n",
    "with open('../../../models/openings/user_bias_embeddings.json') as f:\n",
    "    user_bias_embeddings = json.load(f)\n",
    "with open('../../../models/openings/opening_bias_embeddings.json') as f:\n",
    "    opening_bias_embeddings = json.load(f)\n",
    "\n",
    "model = load_model('../../../models/openings/recommendations.h5')\n",
    "\n",
    "def predict(user_id, opening_id):\n",
    "    user_embedding = np.array(user_embeddings[user_id])\n",
    "    opening_embedding = np.array(opening_embeddings[opening_id])\n",
    "\n",
    "    # Passing user embedding and movie embedding through the concat layer\n",
    "    concatenated_embeddings = model.get_layer('concat')([user_embedding, opening_embedding])\n",
    "\n",
    "    # Passing the concatenated embeddings through the dense layers\n",
    "    x = model.get_layer('dense1')(concatenated_embeddings)\n",
    "    x = model.get_layer('dense2')(x)\n",
    "\n",
    "    user_bias_embedding = np.array(user_bias_embeddings[user_id])\n",
    "    opening_bias_embedding = np.array(opening_bias_embeddings[opening_id])\n",
    "\n",
    "    user_bias_embedding = user_bias_embedding[:, tf.newaxis]\n",
    "    opening_bias_embedding = opening_bias_embedding[:, tf.newaxis]\n",
    "\n",
    "    # Combine embeddings, biases, and pass through the output layer\n",
    "    input_tensors = [x, user_bias_embedding, opening_bias_embedding]\n",
    "    concatenated_features = model.get_layer('combined_features')(input_tensors)\n",
    "    \n",
    "    x = model.get_layer('combined_dense1')(concatenated_features)\n",
    "    x = model.get_layer('combined_dense2')(x)\n",
    "    \n",
    "    x = model.get_layer('output')(x)\n",
    "\n",
    "    predicted_rating = x[0][0]\n",
    "\n",
    "    return predicted_rating.numpy()"
   ]
  },
  {
   "cell_type": "code",
   "execution_count": 84,
   "id": "4e2f2323-9dbb-43e7-bb34-4719ad1f5a46",
   "metadata": {},
   "outputs": [],
   "source": [
    "scores = pd.read_csv('../../../data/opening_scores.csv')\n",
    "scores = scores.merge(df, left_on='opening_id', right_on='id',)\n",
    "\n",
    "def through_user_recommendations(user_id):\n",
    "    user_ratings = scores[scores['user_id'] == user_id]\n",
    "    user_ratings = user_ratings[user_ratings['score'] != 1]\n",
    "    \n",
    "    recommended_projects=recommend_projects(user_id)\n",
    "    \n",
    "    recommendation = scores[~scores['opening_id'].isin(user_ratings['opening_id'])].drop_duplicates()\n",
    "    recommendation = recommendation[recommendation['project_id'].isin(recommended_projects)][['opening_id']].drop_duplicates()\n",
    "    recommendation['score_predict'] = recommendation.apply(lambda x: predict(user_id, x['opening_id']), axis=1)\n",
    "    \n",
    "    recomendations = {}\n",
    "\n",
    "    def df2dict(row):\n",
    "        recomendations[row['opening_id']]=row['score_predict']\n",
    "        \n",
    "    recommendation.apply(df2dict, axis=1)\n",
    "    return recomendations"
   ]
  },
  {
   "cell_type": "code",
   "execution_count": 85,
   "id": "72cd327a-3ff0-43c9-9dae-9451f3c43d92",
   "metadata": {},
   "outputs": [
    {
     "data": {
      "text/plain": [
       "{'d569ec70-f3fa-421c-88db-0773b26a2475': 3.5413594245910645}"
      ]
     },
     "execution_count": 85,
     "metadata": {},
     "output_type": "execute_result"
    }
   ],
   "source": [
    "through_user_recommendations('5f5a90e2-6601-480c-bc08-7592e06beacd')"
   ]
  },
  {
   "cell_type": "markdown",
   "id": "9168704b-1a39-4ff6-a9c8-e83363f6ebfa",
   "metadata": {},
   "source": [
    "# Combined"
   ]
  },
  {
   "cell_type": "code",
   "execution_count": 81,
   "id": "7c21935a-b944-4714-956d-e538f5039513",
   "metadata": {},
   "outputs": [],
   "source": [
    "userID = '5f5a90e2-6601-480c-bc08-7592e06beacd'\n",
    "\n",
    "direct=direct_user_recommendations(userID)"
   ]
  },
  {
   "cell_type": "code",
   "execution_count": 86,
   "id": "e1a1de9d-0a1c-469f-9ae7-dd2545b79023",
   "metadata": {},
   "outputs": [],
   "source": [
    "through=through_user_recommendations(userID)"
   ]
  },
  {
   "cell_type": "code",
   "execution_count": 87,
   "id": "8a803a22-c236-45b8-a058-2bbf44db3082",
   "metadata": {},
   "outputs": [],
   "source": [
    "alpha = 0.7\n",
    "beta = 0.3 "
   ]
  },
  {
   "cell_type": "code",
   "execution_count": 97,
   "id": "392f235d-7870-4a7e-bc37-f1a02aafec8c",
   "metadata": {},
   "outputs": [],
   "source": [
    "combined_recommendations = {}\n",
    "\n",
    "for id in direct:\n",
    "    if id not in combined_recommendations:\n",
    "        combined_recommendations[id] = alpha * direct[id]\n",
    "\n",
    "for id in through:\n",
    "    if id not in combined_recommendations:\n",
    "        combined_recommendations[id] = beta * through[id]\n",
    "    else:\n",
    "        combined_recommendations[id] += beta * through[id]"
   ]
  },
  {
   "cell_type": "code",
   "execution_count": 98,
   "id": "aea2e8ee-5154-41b6-b9e1-886cf85db4bf",
   "metadata": {},
   "outputs": [],
   "source": [
    "combined_recommendations=dict(sorted(combined_recommendations.items(), key=lambda item: item[1], reverse=True))"
   ]
  },
  {
   "cell_type": "code",
   "execution_count": 99,
   "id": "71ced82b-8f8d-4e79-8211-753c8dbe3606",
   "metadata": {},
   "outputs": [
    {
     "data": {
      "text/plain": [
       "{'d569ec70-f3fa-421c-88db-0773b26a2475': 3.5413594245910645,\n",
       " '1067c159-be01-4f89-a1cf-a32cdd67bb72': 2.5049071311950684}"
      ]
     },
     "execution_count": 99,
     "metadata": {},
     "output_type": "execute_result"
    }
   ],
   "source": [
    "combined_recommendations"
   ]
  },
  {
   "cell_type": "code",
   "execution_count": 100,
   "id": "d05dfa13-572c-4d51-934b-fb2bff13e7d7",
   "metadata": {},
   "outputs": [
    {
     "data": {
      "text/plain": [
       "['d569ec70-f3fa-421c-88db-0773b26a2475',\n",
       " '1067c159-be01-4f89-a1cf-a32cdd67bb72']"
      ]
     },
     "execution_count": 100,
     "metadata": {},
     "output_type": "execute_result"
    }
   ],
   "source": [
    "list(combined_recommendations.keys())"
   ]
  }
 ],
 "metadata": {
  "kernelspec": {
   "display_name": "Python 3 (ipykernel)",
   "language": "python",
   "name": "python3"
  },
  "language_info": {
   "codemirror_mode": {
    "name": "ipython",
    "version": 3
   },
   "file_extension": ".py",
   "mimetype": "text/x-python",
   "name": "python",
   "nbconvert_exporter": "python",
   "pygments_lexer": "ipython3",
   "version": "3.11.5"
  }
 },
 "nbformat": 4,
 "nbformat_minor": 5
}
