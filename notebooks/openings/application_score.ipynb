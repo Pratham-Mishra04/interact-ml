{
 "cells": [
  {
   "cell_type": "markdown",
   "id": "8ed659d6-7bd4-4818-a89b-4cac1262129b",
   "metadata": {},
   "source": [
    "# BERT Model"
   ]
  },
  {
   "cell_type": "code",
   "execution_count": 4,
   "id": "8aa26f3c-8374-488f-bbbc-993977a6373a",
   "metadata": {},
   "outputs": [],
   "source": [
    "from transformers import BertTokenizer, BertModel\n",
    "import torch"
   ]
  },
  {
   "cell_type": "code",
   "execution_count": 108,
   "id": "72bdb2ba-aaed-4969-8701-d9fc3b9a2520",
   "metadata": {},
   "outputs": [],
   "source": [
    "resume_text = \"Hello i am a junior undergrad student.\"\n",
    "application_text = \"I am a experienced designer\"\n",
    "opening_description = \"Need a really experienced and great full stack web developer\""
   ]
  },
  {
   "cell_type": "code",
   "execution_count": 109,
   "id": "d3a4f6d1-e3ab-44b4-94b3-d02de2ae9f89",
   "metadata": {},
   "outputs": [],
   "source": [
    "tokenizer = BertTokenizer.from_pretrained('bert-large-uncased')\n",
    "model = BertModel.from_pretrained('bert-large-uncased')"
   ]
  },
  {
   "cell_type": "code",
   "execution_count": 110,
   "id": "52d51540-c758-4450-863a-de0780176303",
   "metadata": {},
   "outputs": [],
   "source": [
    "def get_embeddings(text):\n",
    "    input_ids = tokenizer(text, return_tensors='pt', padding=True, truncation=True)['input_ids']\n",
    "    with torch.no_grad():\n",
    "        embeddings = model(input_ids).last_hidden_state.mean(dim=1)\n",
    "    return embeddings"
   ]
  },
  {
   "cell_type": "code",
   "execution_count": 111,
   "id": "c540d331-09b6-4dbb-a36c-f2999e5ead56",
   "metadata": {},
   "outputs": [],
   "source": [
    "resume_embeddings = get_embeddings(resume_text)\n",
    "application_embeddings = get_embeddings(application_text)\n",
    "description_embeddings = get_embeddings(opening_description)"
   ]
  },
  {
   "cell_type": "code",
   "execution_count": 95,
   "id": "ac938ea9-c155-4802-bd22-8f1866683356",
   "metadata": {},
   "outputs": [],
   "source": [
    "from sklearn.metrics.pairwise import cosine_similarity\n",
    "\n",
    "similarity_resume_app = cosine_similarity(resume_embeddings, description_embeddings)\n",
    "similarity_application_description = cosine_similarity(application_embeddings, description_embeddings)"
   ]
  },
  {
   "cell_type": "code",
   "execution_count": 96,
   "id": "ec480eb2-ceb6-43fb-95c9-4f98e08782a0",
   "metadata": {},
   "outputs": [
    {
     "data": {
      "text/plain": [
       "array([[0.7279686]], dtype=float32)"
      ]
     },
     "execution_count": 96,
     "metadata": {},
     "output_type": "execute_result"
    }
   ],
   "source": [
    "similarity_resume_app"
   ]
  },
  {
   "cell_type": "code",
   "execution_count": 97,
   "id": "bbb2a496-d865-4294-b050-f4a665da0c32",
   "metadata": {},
   "outputs": [
    {
     "data": {
      "text/plain": [
       "array([[0.7867838]], dtype=float32)"
      ]
     },
     "execution_count": 97,
     "metadata": {},
     "output_type": "execute_result"
    }
   ],
   "source": [
    "similarity_application_description"
   ]
  },
  {
   "cell_type": "code",
   "execution_count": 98,
   "id": "d4fe627e-b1fa-4d9b-9a40-1cf96b5803bb",
   "metadata": {},
   "outputs": [
    {
     "name": "stdout",
     "output_type": "stream",
     "text": [
      "Match Percentage: 0.7573762\n"
     ]
    }
   ],
   "source": [
    "match_percentage = (similarity_resume_app + similarity_application_description) / 2\n",
    "print(\"Match Percentage:\", match_percentage[0][0])"
   ]
  },
  {
   "cell_type": "markdown",
   "id": "6acb4546-3864-475a-954a-f3332b50395c",
   "metadata": {},
   "source": [
    "# TFIDF Model"
   ]
  },
  {
   "cell_type": "code",
   "execution_count": 241,
   "id": "4ae6d915-ce8b-42b0-96b2-912e01712416",
   "metadata": {},
   "outputs": [],
   "source": [
    "resume_text = \"Hello i am a junior undergrad student.\"\n",
    "application_text = \"I am pathetic at web developement\"\n",
    "opening_description = \"Need a really experienced and great full stack web developer\""
   ]
  },
  {
   "cell_type": "code",
   "execution_count": 242,
   "id": "6066cd8c-e6d9-4a7a-bc90-ed4c3bb126a2",
   "metadata": {},
   "outputs": [],
   "source": [
    "from nltk.stem.porter import PorterStemmer\n",
    "from nltk.corpus import stopwords\n",
    "from nltk import pos_tag, word_tokenize\n",
    "import string\n",
    "\n",
    "ps=PorterStemmer()\n",
    "\n",
    "custom_stopwords = [\"need\", \"want\", \"this\", \"that\", \"fast\"]\n",
    "\n",
    "def stem(x):\n",
    "    L = []\n",
    "    tagged_tokens = pos_tag(x)\n",
    "    for token, pos in tagged_tokens:\n",
    "        stemmed_token = ps.stem(token.lower())\n",
    "        if stemmed_token not in L and stemmed_token not in stopwords.words(\"english\") and stemmed_token not in string.punctuation:\n",
    "            L.append(stemmed_token)\n",
    "    return \" \".join(L)"
   ]
  },
  {
   "cell_type": "code",
   "execution_count": 243,
   "id": "9fae5dcf-cdab-478f-bb30-fa40520971b6",
   "metadata": {},
   "outputs": [],
   "source": [
    "resume_text = stem(resume_text.split())\n",
    "application_text = stem(application_text.split())\n",
    "opening_description = stem(opening_description.split())"
   ]
  },
  {
   "cell_type": "code",
   "execution_count": 244,
   "id": "0b35737c-ab2c-4389-816f-7f896692d232",
   "metadata": {},
   "outputs": [
    {
     "data": {
      "text/plain": [
       "'pathet web develop'"
      ]
     },
     "execution_count": 244,
     "metadata": {},
     "output_type": "execute_result"
    }
   ],
   "source": [
    "application_text"
   ]
  },
  {
   "cell_type": "code",
   "execution_count": 245,
   "id": "cba2f433-e797-4ff6-8d14-ddce66a65160",
   "metadata": {},
   "outputs": [],
   "source": [
    "from sklearn.feature_extraction.text import TfidfVectorizer\n",
    "\n",
    "tfidf_vectorizer = TfidfVectorizer()\n",
    "\n",
    "combined_text = [resume_text, application_text]\n",
    "tfidf_matrix = tfidf_vectorizer.fit_transform(combined_text)\n",
    "\n",
    "opening_tfidf = tfidf_vectorizer.transform([opening_description])\n",
    "similarity_scores = cosine_similarity(opening_tfidf, tfidf_matrix)"
   ]
  },
  {
   "cell_type": "code",
   "execution_count": 246,
   "id": "b8568d56-39d7-448d-bd5f-1e3ecaea0599",
   "metadata": {},
   "outputs": [
    {
     "name": "stdout",
     "output_type": "stream",
     "text": [
      "Cosine Similarity (Resume vs. Opening Description): 0.0\n",
      "Cosine Similarity (Application vs. Opening Description): 0.816496580927726\n"
     ]
    }
   ],
   "source": [
    "print(\"Cosine Similarity (Resume vs. Opening Description):\", similarity_scores[0][0])\n",
    "print(\"Cosine Similarity (Application vs. Opening Description):\", similarity_scores[0][1])"
   ]
  },
  {
   "cell_type": "markdown",
   "id": "6493d995-0deb-435a-b374-ce358aa660a8",
   "metadata": {},
   "source": [
    "# MPNET Model"
   ]
  },
  {
   "cell_type": "code",
   "execution_count": 19,
   "id": "b738cf92-f362-41a2-a2a4-7cc8d2da31d1",
   "metadata": {},
   "outputs": [
    {
     "name": "stderr",
     "output_type": "stream",
     "text": [
      "No model was supplied, defaulted to distilbert-base-uncased-finetuned-sst-2-english and revision af0f99b (https://huggingface.co/distilbert-base-uncased-finetuned-sst-2-english).\n",
      "Using a pipeline without specifying a model name and revision in production is not recommended.\n"
     ]
    }
   ],
   "source": [
    "from transformers import AutoTokenizer, AutoModel\n",
    "import torch\n",
    "import torch.nn.functional as F\n",
    "from transformers import pipeline\n",
    "\n",
    "# Mean Pooling - Take attention mask into account for correct averaging\n",
    "def mean_pooling(model_output, attention_mask):\n",
    "    token_embeddings = model_output[0]  # First element of model_output contains all token embeddings\n",
    "    input_mask_expanded = attention_mask.unsqueeze(-1).expand(token_embeddings.size()).float()\n",
    "    return torch.sum(token_embeddings * input_mask_expanded, 1) / torch.clamp(input_mask_expanded.sum(1), min=1e-9)\n",
    "\n",
    "# Load sentiment analysis model\n",
    "sentiment_analysis = pipeline(\"sentiment-analysis\")\n",
    "\n",
    "# Load BERT-based model\n",
    "tokenizer = AutoTokenizer.from_pretrained('sentence-transformers/all-mpnet-base-v2')\n",
    "model = AutoModel.from_pretrained('sentence-transformers/all-mpnet-base-v2')\n",
    "\n",
    "def get_embeddings(sentences):\n",
    "    encoded_input = tokenizer(sentences, padding=True, truncation=True, return_tensors='pt')\n",
    "    with torch.no_grad():\n",
    "        model_output = model(**encoded_input)\n",
    "    # Perform pooling\n",
    "    sentence_embeddings = mean_pooling(model_output, encoded_input['attention_mask'])\n",
    "\n",
    "    # Normalize embeddings\n",
    "    sentence_embeddings = F.normalize(sentence_embeddings, p=2, dim=1)\n",
    "    return sentence_embeddings\n",
    "\n",
    "def get_sentiment_score(text):\n",
    "    sentiment = sentiment_analysis(text)[0]\n",
    "    if sentiment['label']=='POSITIVE':\n",
    "        return sentiment['score']\n",
    "    else:\n",
    "        return sentiment['score']*-1"
   ]
  },
  {
   "cell_type": "code",
   "execution_count": 194,
   "id": "12df446e-d4b9-4a11-bfd6-0a568d948fe1",
   "metadata": {},
   "outputs": [],
   "source": [
    "def get_similarity_score(application_text, opening_description):\n",
    "    application_embeddings = get_embeddings([application_text])\n",
    "    description_embeddings = get_embeddings([opening_description])\n",
    "\n",
    "    similarity_score = cosine_similarity(application_embeddings, description_embeddings)[0][0]\n",
    "\n",
    "    application_sentiment_score = get_sentiment_score(application_text)\n",
    "    final_score = similarity_score+similarity_score*(abs(application_sentiment_score)**0.33)*(application_sentiment_score/abs(application_sentiment_score))\n",
    "\n",
    "    return round((final_score/2)*100,5)"
   ]
  },
  {
   "cell_type": "code",
   "execution_count": 195,
   "id": "357f87e4-de23-4efc-bc77-c313540e434e",
   "metadata": {},
   "outputs": [
    {
     "data": {
      "text/plain": [
       "79.80434"
      ]
     },
     "execution_count": 195,
     "metadata": {},
     "output_type": "execute_result"
    }
   ],
   "source": [
    "get_similarity_score(\n",
    "    \"I am an expert at full stack web development and have many years of experience and strong fundamentals\",\n",
    "    \"Need a good full stack web developer which sufficient knowledge and good experience\"\n",
    ")"
   ]
  },
  {
   "cell_type": "code",
   "execution_count": 204,
   "id": "51853b61-9402-467c-b534-bfc92c399d6e",
   "metadata": {},
   "outputs": [
    {
     "data": {
      "text/plain": [
       "71.33491"
      ]
     },
     "execution_count": 204,
     "metadata": {},
     "output_type": "execute_result"
    }
   ],
   "source": [
    "get_similarity_score(\n",
    "    \"I am great at web development and have years of experience\",\n",
    "    \"Need a good full stack web developer which sufficient knowledge and good experience\"\n",
    ")"
   ]
  },
  {
   "cell_type": "code",
   "execution_count": 197,
   "id": "6804d9b2-2a43-4872-be42-046516f01bcb",
   "metadata": {},
   "outputs": [
    {
     "data": {
      "text/plain": [
       "62.64155"
      ]
     },
     "execution_count": 197,
     "metadata": {},
     "output_type": "execute_result"
    }
   ],
   "source": [
    "get_similarity_score(\n",
    "    \"I am good at web development and little experience in it\",\n",
    "    \"Need a good full stack web developer which sufficient knowledge and good experience\"\n",
    ")"
   ]
  },
  {
   "cell_type": "code",
   "execution_count": 198,
   "id": "6dc6b3e2-1189-4df7-9d90-160160be0b90",
   "metadata": {},
   "outputs": [
    {
     "data": {
      "text/plain": [
       "0.00212"
      ]
     },
     "execution_count": 198,
     "metadata": {},
     "output_type": "execute_result"
    }
   ],
   "source": [
    "get_similarity_score(\n",
    "    \"I am bad at web development and have no experience\",\n",
    "    \"Need a good full stack web developer which sufficient knowledge and experience\"\n",
    ")"
   ]
  },
  {
   "cell_type": "code",
   "execution_count": 199,
   "id": "43fcd00e-2d82-45dd-b4be-6c81550e3337",
   "metadata": {},
   "outputs": [
    {
     "data": {
      "text/plain": [
       "0.00225"
      ]
     },
     "execution_count": 199,
     "metadata": {},
     "output_type": "execute_result"
    }
   ],
   "source": [
    "get_similarity_score(\n",
    "    \"I am pathetic at web development and have no experience\",\n",
    "    \"Need a good full stack web developer which sufficient knowledge and experience\"\n",
    ")"
   ]
  },
  {
   "cell_type": "code",
   "execution_count": 200,
   "id": "f22a67e5-84e3-4827-921f-7853202afcfa",
   "metadata": {},
   "outputs": [
    {
     "data": {
      "text/plain": [
       "59.28756"
      ]
     },
     "execution_count": 200,
     "metadata": {},
     "output_type": "execute_result"
    }
   ],
   "source": [
    "get_similarity_score(\n",
    "    \"I am okay okay at web development and have just started learning it\",\n",
    "    \"Need a good full stack web developer which sufficient knowledge and experience\"\n",
    ")"
   ]
  },
  {
   "cell_type": "code",
   "execution_count": 201,
   "id": "a53e6d79-f3c0-4dd9-93ef-1b2a0c2a0bcd",
   "metadata": {},
   "outputs": [
    {
     "data": {
      "text/plain": [
       "25.83193"
      ]
     },
     "execution_count": 201,
     "metadata": {},
     "output_type": "execute_result"
    }
   ],
   "source": [
    "get_similarity_score(\n",
    "    \"I am good at machine learning\",\n",
    "    \"Need a good full stack web developer which sufficient knowledge and good experience\"\n",
    ")"
   ]
  },
  {
   "cell_type": "code",
   "execution_count": 205,
   "id": "d9db8521-84f4-4c8f-ab2d-876f7b5d7063",
   "metadata": {},
   "outputs": [
    {
     "data": {
      "text/plain": [
       "0.2198"
      ]
     },
     "execution_count": 205,
     "metadata": {},
     "output_type": "execute_result"
    }
   ],
   "source": [
    "get_similarity_score(\n",
    "    \"I am good at web development but i dont know machine learning\",\n",
    "    \"Need a good full stack web developer which sufficient knowledge and good experience\"\n",
    ")"
   ]
  },
  {
   "cell_type": "markdown",
   "id": "742d1027-b1f3-4e67-930c-7ff165e7afca",
   "metadata": {},
   "source": [
    "# Using Roberta with TFIDF"
   ]
  },
  {
   "cell_type": "code",
   "execution_count": 9,
   "id": "509bb1e3-8f58-4cfd-a2bb-43afa294f654",
   "metadata": {},
   "outputs": [],
   "source": [
    "from transformers import pipeline\n",
    "\n",
    "classifier = pipeline(task=\"text-classification\", model=\"SamLowe/roberta-base-go_emotions\", top_k=None)\n",
    "\n",
    "def get_sentence_sentiment(sentence):\n",
    "    model_outputs = classifier([sentence])\n",
    "    output_obj={}\n",
    "    \n",
    "    for obj in model_outputs[0]:\n",
    "        output_obj[obj['label']]=obj['score']\n",
    "        \n",
    "    return output_obj"
   ]
  },
  {
   "cell_type": "code",
   "execution_count": 10,
   "id": "41e5141a-7f72-4758-90c9-2458630365ff",
   "metadata": {},
   "outputs": [],
   "source": [
    "sentiment_weights = {\n",
    "    \"admiration\": 0.9,\n",
    "    \"amusement\": 0.3,\n",
    "    \"anger\": -0.4,\n",
    "    \"annoyance\": -0.3,\n",
    "    \"approval\": 0.3,\n",
    "    \"caring\": 0.05,\n",
    "    \"confusion\": -0.05,\n",
    "    \"curiosity\": 0.3,\n",
    "    \"desire\": 0.4,\n",
    "    \"disappointment\": -0.3,\n",
    "    \"disgust\": -0.2,\n",
    "    \"disapproval\": -0.1,\n",
    "    \"embarrassment\": 0.0,\n",
    "    \"excitement\": 0.3,\n",
    "    \"fear\": 0.0,\n",
    "    \"gratitude\": 0.2,\n",
    "    \"grief\": 0.0,\n",
    "    \"joy\": 0.0,\n",
    "    \"love\": 0.0,\n",
    "    \"nervousness\": 0.0,\n",
    "    \"optimism\": 0.05,\n",
    "    \"pride\": -0.05,\n",
    "    \"realization\": 0.0,\n",
    "    \"relief\": 0.0,\n",
    "    \"remorse\": 0.0,\n",
    "    \"sadness\": -0.4,\n",
    "    \"surprise\": 0.0,\n",
    "    \"neutral\": 0.4,\n",
    "}"
   ]
  },
  {
   "cell_type": "code",
   "execution_count": 11,
   "id": "be060e5c-18e7-4808-abe8-29c6853a8961",
   "metadata": {},
   "outputs": [],
   "source": [
    "def get_sentiment_score(sentence):\n",
    "    sentiment_obj = get_sentence_sentiment(sentence)\n",
    "\n",
    "    sentiment_labels = sentiment_obj.keys()\n",
    "    sentiment_scores = sentiment_obj.values()\n",
    "    \n",
    "    # Normalize scores to a common scale (0 to 1)\n",
    "    normalized_scores = [score / max(sentiment_scores) for score in sentiment_scores]\n",
    "    \n",
    "    # Calculate the weighted sentiment score\n",
    "    weighted_sentiment_score = sum(normalized_scores[i] * sentiment_weights[label] for i, label in enumerate(sentiment_labels))\n",
    "\n",
    "    return weighted_sentiment_score"
   ]
  },
  {
   "cell_type": "code",
   "execution_count": 12,
   "id": "3231f131-50c6-487c-84e3-338fe108e736",
   "metadata": {},
   "outputs": [
    {
     "name": "stdout",
     "output_type": "stream",
     "text": [
      "Weighted Sentiment Score: 0.64\n"
     ]
    }
   ],
   "source": [
    "sentence = \"I am learning web development but i know a lot and i a few years of experience in this field\"\n",
    "\n",
    "sentiment_score = get_sentiment_score(sentence)\n",
    "\n",
    "print(f\"Weighted Sentiment Score: {sentiment_score:.2f}\")"
   ]
  },
  {
   "cell_type": "code",
   "execution_count": 395,
   "id": "a6fe29a7-7e45-4505-84d1-0d58b45698f7",
   "metadata": {},
   "outputs": [],
   "source": [
    "from nltk.stem.porter import PorterStemmer\n",
    "from nltk.corpus import stopwords\n",
    "from nltk import pos_tag, word_tokenize\n",
    "import string\n",
    "\n",
    "ps=PorterStemmer()\n",
    "\n",
    "custom_stopwords = [\"need\", \"want\", \"this\", \"that\", \"fast\"]\n",
    "\n",
    "def stem(x):\n",
    "    L = []\n",
    "    tagged_tokens = pos_tag(x)\n",
    "    for token, pos in tagged_tokens:\n",
    "        token=token.lower()\n",
    "        if pos != 'JJ' and pos != 'JJR' and pos != 'JJS' and token not in custom_stopwords:  # Remove adjectives\n",
    "            stemmed_token = ps.stem(token)\n",
    "            if stemmed_token not in L and stemmed_token not in stopwords.words(\"english\") and stemmed_token not in string.punctuation:\n",
    "                L.append(stemmed_token)\n",
    "    return \" \".join(L)"
   ]
  },
  {
   "cell_type": "code",
   "execution_count": 261,
   "id": "ba055200-a529-4447-871a-782d6d07a80f",
   "metadata": {},
   "outputs": [],
   "source": [
    "application_text = \"I am pathetic at web development\"\n",
    "opening_description = \"Need a really experienced and great full stack web developer\"\n",
    "\n",
    "application_text_stem = stem(application_text.split())\n",
    "opening_description_stem = stem(opening_description.split())"
   ]
  },
  {
   "cell_type": "code",
   "execution_count": 262,
   "id": "96906d16-e80a-4225-a6ad-3eabacd1ea69",
   "metadata": {},
   "outputs": [],
   "source": [
    "from sklearn.feature_extraction.text import TfidfVectorizer\n",
    "\n",
    "tfidf_vectorizer = TfidfVectorizer()\n",
    "\n",
    "application_tfidf = tfidf_vectorizer.fit_transform([application_text_stem])\n",
    "\n",
    "opening_tfidf = tfidf_vectorizer.transform([opening_description_stem])\n",
    "similarity_score = cosine_similarity(opening_tfidf, application_tfidf)[0][0]"
   ]
  },
  {
   "cell_type": "code",
   "execution_count": 263,
   "id": "ebe8c619-1ef7-46e2-a483-4371d8ec0496",
   "metadata": {},
   "outputs": [
    {
     "name": "stdout",
     "output_type": "stream",
     "text": [
      "Cosine Similarity (Application vs. Opening Description): 0.8164965809277261\n"
     ]
    }
   ],
   "source": [
    "print(\"Cosine Similarity (Application vs. Opening Description):\", similarity_score)"
   ]
  },
  {
   "cell_type": "code",
   "execution_count": 265,
   "id": "b3fcfa9f-ff73-47c4-bd92-0d1fe8434b3e",
   "metadata": {},
   "outputs": [],
   "source": [
    "application_sentiment_score=get_sentiment_score(application_text)"
   ]
  },
  {
   "cell_type": "code",
   "execution_count": 266,
   "id": "2b8204c1-d3bc-4bc6-90b6-2a2a4ba9442b",
   "metadata": {},
   "outputs": [
    {
     "name": "stdout",
     "output_type": "stream",
     "text": [
      "Final Similarity Score (Application vs. Opening Description): -0.3517101187232982\n"
     ]
    }
   ],
   "source": [
    "print(\"Final Similarity Score (Application vs. Opening Description):\", similarity_score*application_sentiment_score)"
   ]
  },
  {
   "cell_type": "code",
   "execution_count": 13,
   "id": "27355161-eacf-4a9b-9267-03c5f111e96a",
   "metadata": {},
   "outputs": [],
   "source": [
    "import numpy as np\n",
    "\n",
    "def sigmoid(x):\n",
    "    return 2 / (1 + np.exp(-x)) - 1"
   ]
  },
  {
   "cell_type": "code",
   "execution_count": 14,
   "id": "aedec73f-1c35-4988-847d-82264e000023",
   "metadata": {},
   "outputs": [],
   "source": [
    "def get_similarity_score(application_text, opening_description):\n",
    "    application_text_stem = stem(application_text.split())\n",
    "    opening_description_stem = stem(opening_description.split())\n",
    "\n",
    "    tfidf_vectorizer = TfidfVectorizer()\n",
    "\n",
    "    application_tfidf = tfidf_vectorizer.fit_transform([application_text_stem])\n",
    "    \n",
    "    opening_tfidf = tfidf_vectorizer.transform([opening_description_stem])\n",
    "    similarity_score = cosine_similarity(opening_tfidf, application_tfidf)[0][0]\n",
    "\n",
    "    application_sentiment_score=get_sentiment_score(application_text)\n",
    "\n",
    "    return sigmoid(similarity_score*application_sentiment_score)"
   ]
  },
  {
   "cell_type": "code",
   "execution_count": 434,
   "id": "907fde55-cd3a-46a3-aee9-389930859e71",
   "metadata": {},
   "outputs": [
    {
     "data": {
      "text/plain": [
       "0.3854615085547146"
      ]
     },
     "execution_count": 434,
     "metadata": {},
     "output_type": "execute_result"
    }
   ],
   "source": [
    "get_similarity_score(\n",
    "    \"I am great at web development and have years of experience\",\n",
    "    \"Need a good full stack web developer which sufficient knowledge and good experience\"\n",
    ")"
   ]
  },
  {
   "cell_type": "code",
   "execution_count": 435,
   "id": "16ac4f0a-1102-424c-bb39-7f3c04c00652",
   "metadata": {},
   "outputs": [
    {
     "data": {
      "text/plain": [
       "0.46706004643938615"
      ]
     },
     "execution_count": 435,
     "metadata": {},
     "output_type": "execute_result"
    }
   ],
   "source": [
    "get_similarity_score(\n",
    "    \"I am good at web development and little experience in it\",\n",
    "    \"Need a good full stack web developer which sufficient knowledge and good experience\"\n",
    ")"
   ]
  },
  {
   "cell_type": "code",
   "execution_count": 436,
   "id": "1fe17542-e52f-43e0-acd5-1565170f91e5",
   "metadata": {},
   "outputs": [
    {
     "data": {
      "text/plain": [
       "-0.22346232265652322"
      ]
     },
     "execution_count": 436,
     "metadata": {},
     "output_type": "execute_result"
    }
   ],
   "source": [
    "get_similarity_score(\n",
    "    \"I am bad at web development and have no experience\",\n",
    "    \"Need a good full stack web developer which sufficient knowledge and experience\"\n",
    ")"
   ]
  },
  {
   "cell_type": "code",
   "execution_count": 437,
   "id": "6be8d4c9-a060-4002-b92d-5afa3f9a4ffe",
   "metadata": {},
   "outputs": [
    {
     "data": {
      "text/plain": [
       "-0.22948165796224218"
      ]
     },
     "execution_count": 437,
     "metadata": {},
     "output_type": "execute_result"
    }
   ],
   "source": [
    "get_similarity_score(\n",
    "    \"I am pathetic at web development and have no experience\",\n",
    "    \"Need a good full stack web developer which sufficient knowledge and experience\"\n",
    ")"
   ]
  },
  {
   "cell_type": "code",
   "execution_count": 438,
   "id": "208ce41d-3b4a-4cc5-a8fd-dd25a623889c",
   "metadata": {},
   "outputs": [
    {
     "data": {
      "text/plain": [
       "0.1876354931413573"
      ]
     },
     "execution_count": 438,
     "metadata": {},
     "output_type": "execute_result"
    }
   ],
   "source": [
    "get_similarity_score(\n",
    "    \"I am okay okay at web development and have just started learning it\",\n",
    "    \"Need a good full stack web developer which sufficient knowledge and experience\"\n",
    ")"
   ]
  },
  {
   "cell_type": "code",
   "execution_count": 439,
   "id": "257297c7-da94-42ad-89b3-7aa2c136ec82",
   "metadata": {},
   "outputs": [
    {
     "data": {
      "text/plain": [
       "0.0"
      ]
     },
     "execution_count": 439,
     "metadata": {},
     "output_type": "execute_result"
    }
   ],
   "source": [
    "get_similarity_score(\n",
    "    \"I am good at machine learning\",\n",
    "    \"Need a good full stack web developer which sufficient knowledge and good experience\"\n",
    ")"
   ]
  },
  {
   "cell_type": "markdown",
   "id": "fa57e0f8-5393-49f5-bb73-cdeffebd5dcc",
   "metadata": {},
   "source": [
    "## Using weight function"
   ]
  },
  {
   "cell_type": "code",
   "execution_count": 454,
   "id": "cc933961-adea-4b1e-8a98-b9081bd89285",
   "metadata": {},
   "outputs": [],
   "source": [
    "from sklearn.feature_extraction.text import TfidfVectorizer\n",
    "from sklearn.metrics.pairwise import cosine_similarity\n",
    "import numpy as np\n",
    "\n",
    "# Function to calculate the weighted score\n",
    "def get_weighted_score(similarity_score, application_sentiment_score):\n",
    "    # Function to determine the weight based on the similarity score\n",
    "    def weight_function(similarity_score):\n",
    "        weight = 1.0 + 0.5 * similarity_score**2\n",
    "        return weight\n",
    "\n",
    "    weight = weight_function(similarity_score)\n",
    "\n",
    "    weighted_score = similarity_score * (1 + weight) * application_sentiment_score\n",
    "\n",
    "    return weighted_score\n",
    "\n",
    "def sigmoid(x):\n",
    "    return 2 / (1 + np.exp(-x)) - 1\n",
    "\n",
    "def get_similarity_score(application_text, opening_description):\n",
    "    application_text_stem = stem(application_text.split())\n",
    "    opening_description_stem = stem(opening_description.split())\n",
    "\n",
    "    tfidf_vectorizer = TfidfVectorizer()\n",
    "\n",
    "    application_tfidf = tfidf_vectorizer.fit_transform([application_text_stem])\n",
    "    \n",
    "    opening_tfidf = tfidf_vectorizer.transform([opening_description_stem])\n",
    "    similarity_score = cosine_similarity(opening_tfidf, application_tfidf)[0][0]\n",
    "\n",
    "    application_sentiment_score = get_sentiment_score(application_text)\n",
    "\n",
    "    weighted_score = get_weighted_score(similarity_score, application_sentiment_score)\n",
    "\n",
    "    return sigmoid(weighted_score)"
   ]
  },
  {
   "cell_type": "code",
   "execution_count": 455,
   "id": "60e778c6-d12b-4c9e-b361-e82a27bd3602",
   "metadata": {},
   "outputs": [
    {
     "data": {
      "text/plain": [
       "0.7466488715297739"
      ]
     },
     "execution_count": 455,
     "metadata": {},
     "output_type": "execute_result"
    }
   ],
   "source": [
    "get_similarity_score(\n",
    "    \"I am great at web development and have years of experience\",\n",
    "    \"Need a good full stack web developer which sufficient knowledge and good experience\"\n",
    ")"
   ]
  },
  {
   "cell_type": "code",
   "execution_count": 456,
   "id": "9428fd0e-4b32-4861-9c26-904b68f3fce3",
   "metadata": {},
   "outputs": [
    {
     "data": {
      "text/plain": [
       "0.8526439606668026"
      ]
     },
     "execution_count": 456,
     "metadata": {},
     "output_type": "execute_result"
    }
   ],
   "source": [
    "get_similarity_score(\n",
    "    \"I am good at web development and little experience in it\",\n",
    "    \"Need a good full stack web developer which sufficient knowledge and good experience\"\n",
    ")"
   ]
  },
  {
   "cell_type": "code",
   "execution_count": 457,
   "id": "4c628258-2d8f-48a8-a690-1b65d5e6ba85",
   "metadata": {},
   "outputs": [
    {
     "data": {
      "text/plain": [
       "-0.5140682427714358"
      ]
     },
     "execution_count": 457,
     "metadata": {},
     "output_type": "execute_result"
    }
   ],
   "source": [
    "get_similarity_score(\n",
    "    \"I am bad at web development and have no experience\",\n",
    "    \"Need a good full stack web developer which sufficient knowledge and experience\"\n",
    ")"
   ]
  },
  {
   "cell_type": "code",
   "execution_count": 458,
   "id": "78a53367-e226-48ec-b7ee-13d9e9e06808",
   "metadata": {},
   "outputs": [
    {
     "data": {
      "text/plain": [
       "-0.525643062152912"
      ]
     },
     "execution_count": 458,
     "metadata": {},
     "output_type": "execute_result"
    }
   ],
   "source": [
    "get_similarity_score(\n",
    "    \"I am pathetic at web development and have no experience\",\n",
    "    \"Need a good full stack web developer which sufficient knowledge and experience\"\n",
    ")"
   ]
  },
  {
   "cell_type": "code",
   "execution_count": 459,
   "id": "389eb508-eb34-491c-ae8a-183a13bd65c7",
   "metadata": {},
   "outputs": [
    {
     "data": {
      "text/plain": [
       "0.39503115927524224"
      ]
     },
     "execution_count": 459,
     "metadata": {},
     "output_type": "execute_result"
    }
   ],
   "source": [
    "get_similarity_score(\n",
    "    \"I am okay okay at web development and have just started learning it\",\n",
    "    \"Need a good full stack web developer which sufficient knowledge and experience\"\n",
    ")"
   ]
  },
  {
   "cell_type": "code",
   "execution_count": 460,
   "id": "ffc8ceab-ab4b-4dfe-83cb-095969cf5f22",
   "metadata": {},
   "outputs": [
    {
     "data": {
      "text/plain": [
       "0.0"
      ]
     },
     "execution_count": 460,
     "metadata": {},
     "output_type": "execute_result"
    }
   ],
   "source": [
    "get_similarity_score(\n",
    "    \"I am good at machine learning\",\n",
    "    \"Need a good full stack web developer which sufficient knowledge and good experience\"\n",
    ")"
   ]
  },
  {
   "cell_type": "markdown",
   "id": "c495d08e-f494-4efd-8809-ba497cff3197",
   "metadata": {},
   "source": [
    "# Using Roberta with BERT"
   ]
  },
  {
   "cell_type": "code",
   "execution_count": 402,
   "id": "c9a4113a-1fda-4538-a922-bde68b02d91b",
   "metadata": {},
   "outputs": [],
   "source": [
    "from transformers import BertTokenizer, BertModel\n",
    "import torch\n",
    "from sklearn.metrics.pairwise import cosine_similarity\n",
    "\n",
    "tokenizer = BertTokenizer.from_pretrained('bert-large-uncased')\n",
    "model = BertModel.from_pretrained('bert-large-uncased')\n",
    "\n",
    "def get_embeddings(text):\n",
    "    input_ids = tokenizer(text, return_tensors='pt', padding=True, truncation=True)['input_ids']\n",
    "    with torch.no_grad():\n",
    "        embeddings = model(input_ids).last_hidden_state.mean(dim=1)\n",
    "    return embeddings\n",
    "\n",
    "def sigmoid(x):\n",
    "    return 2 / (1 + np.exp(-x)) - 1\n",
    "\n",
    "def get_similarity_score(application_text, opening_description):\n",
    "    application_embeddings = get_embeddings(application_text)\n",
    "    description_embeddings = get_embeddings(opening_description)\n",
    "\n",
    "    similarity_score = cosine_similarity(application_embeddings, description_embeddings)[0][0]\n",
    "\n",
    "    application_sentiment_score=get_sentiment_score(application_text)\n",
    "    return sigmoid(similarity_score*application_sentiment_score)"
   ]
  },
  {
   "cell_type": "code",
   "execution_count": 403,
   "id": "706f833c-264c-459e-a32a-7afa70c2d6ac",
   "metadata": {},
   "outputs": [
    {
     "data": {
      "text/plain": [
       "0.8220010637976313"
      ]
     },
     "execution_count": 403,
     "metadata": {},
     "output_type": "execute_result"
    }
   ],
   "source": [
    "get_similarity_score(\n",
    "    \"I am great at web development and have years of experience\",\n",
    "    \"Need a good full stack web developer which sufficient knowledge and good experience\"\n",
    ")"
   ]
  },
  {
   "cell_type": "code",
   "execution_count": 404,
   "id": "248e6c11-24fe-437a-ab82-6dd9a0dc245d",
   "metadata": {},
   "outputs": [
    {
     "data": {
      "text/plain": [
       "0.8320659263853195"
      ]
     },
     "execution_count": 404,
     "metadata": {},
     "output_type": "execute_result"
    }
   ],
   "source": [
    "get_similarity_score(\n",
    "    \"I am good at web development and little experience in it\",\n",
    "    \"Need a good full stack web developer which sufficient knowledge and good experience\"\n",
    ")"
   ]
  },
  {
   "cell_type": "code",
   "execution_count": 405,
   "id": "6213cc2b-dbd2-4dc1-ba28-456dfd2e140b",
   "metadata": {},
   "outputs": [
    {
     "data": {
      "text/plain": [
       "-0.38609173546733483"
      ]
     },
     "execution_count": 405,
     "metadata": {},
     "output_type": "execute_result"
    }
   ],
   "source": [
    "get_similarity_score(\n",
    "    \"I am bad at web development and have no experience\",\n",
    "    \"Need a good full stack web developer which sufficient knowledge and experience\"\n",
    ")"
   ]
  },
  {
   "cell_type": "code",
   "execution_count": 406,
   "id": "10fe0b4b-0de7-4a6a-89ea-f859954b414b",
   "metadata": {},
   "outputs": [
    {
     "data": {
      "text/plain": [
       "-0.396097810538605"
      ]
     },
     "execution_count": 406,
     "metadata": {},
     "output_type": "execute_result"
    }
   ],
   "source": [
    "get_similarity_score(\n",
    "    \"I am pathetic at web development and have no experience\",\n",
    "    \"Need a good full stack web developer which sufficient knowledge and experience\"\n",
    ")"
   ]
  },
  {
   "cell_type": "code",
   "execution_count": 407,
   "id": "d755aac6-6ebc-46d2-9c2e-162c23dbd3cc",
   "metadata": {},
   "outputs": [
    {
     "data": {
      "text/plain": [
       "0.47414601236326276"
      ]
     },
     "execution_count": 407,
     "metadata": {},
     "output_type": "execute_result"
    }
   ],
   "source": [
    "get_similarity_score(\n",
    "    \"I am okay okay at web development and have just started learning it\",\n",
    "    \"Need a good full stack web developer which sufficient knowledge and experience\"\n",
    ")"
   ]
  },
  {
   "cell_type": "code",
   "execution_count": 408,
   "id": "57ea8559-40d5-44d3-8c21-18822a112341",
   "metadata": {},
   "outputs": [
    {
     "data": {
      "text/plain": [
       "0.7120702413987053"
      ]
     },
     "execution_count": 408,
     "metadata": {},
     "output_type": "execute_result"
    }
   ],
   "source": [
    "get_similarity_score(\n",
    "    \"I am good at machine learning\",\n",
    "    \"Need a good full stack web developer which sufficient knowledge and good experience\"\n",
    ")"
   ]
  },
  {
   "cell_type": "code",
   "execution_count": 15,
   "id": "527bdb6a-cc31-4884-b221-9f83b435e9ec",
   "metadata": {},
   "outputs": [],
   "source": [
    "from transformers import BertTokenizer, BertModel\n",
    "import torch\n",
    "from sklearn.metrics.pairwise import cosine_similarity\n",
    "\n",
    "tokenizer = BertTokenizer.from_pretrained('bert-large-uncased')\n",
    "model = BertModel.from_pretrained('bert-large-uncased')\n",
    "\n",
    "def get_embeddings(text):\n",
    "    input_ids = tokenizer(text, return_tensors='pt', padding=True, truncation=True)['input_ids']\n",
    "    with torch.no_grad():\n",
    "        embeddings = model(input_ids).last_hidden_state.mean(dim=1)\n",
    "    return embeddings\n",
    "\n",
    "from nltk.stem.porter import PorterStemmer\n",
    "from nltk.corpus import stopwords\n",
    "from nltk import pos_tag, word_tokenize\n",
    "import string\n",
    "\n",
    "ps=PorterStemmer()\n",
    "\n",
    "custom_stopwords = [\"need\", \"want\", \"this\", \"that\", \"fast\"]\n",
    "\n",
    "def remove_adj(x):\n",
    "    L = []\n",
    "    tagged_tokens = pos_tag(x.split())\n",
    "    for token, pos in tagged_tokens:\n",
    "        if pos != 'JJ' and pos != 'JJR' and pos != 'JJS' and token not in custom_stopwords:  # Remove adjectives\n",
    "            L.append(token)\n",
    "    print(L)\n",
    "    return \" \".join(L)\n",
    "\n",
    "def sigmoid(x):\n",
    "    return 2 / (1 + np.exp(-x)) - 1\n",
    "\n",
    "def get_similarity_score(application_text, opening_description):\n",
    "    application_sentiment_score=get_sentiment_score(application_text)\n",
    "\n",
    "    application_embeddings = get_embeddings(remove_adj(application_text))\n",
    "    description_embeddings = get_embeddings(remove_adj(opening_description))\n",
    "\n",
    "    similarity_score = cosine_similarity(application_embeddings, description_embeddings)[0][0]\n",
    "\n",
    "    return sigmoid(similarity_score*application_sentiment_score)"
   ]
  },
  {
   "cell_type": "code",
   "execution_count": 16,
   "id": "0e12a0c8-9529-451d-9ecf-2426093eb775",
   "metadata": {},
   "outputs": [
    {
     "name": "stdout",
     "output_type": "stream",
     "text": [
      "['I', 'am', 'at', 'web', 'development', 'and', 'have', 'years', 'of', 'experience']\n",
      "['Need', 'a', 'stack', 'web', 'developer', 'which', 'knowledge', 'and', 'experience']\n"
     ]
    },
    {
     "data": {
      "text/plain": [
       "0.385356292268237"
      ]
     },
     "execution_count": 16,
     "metadata": {},
     "output_type": "execute_result"
    }
   ],
   "source": [
    "get_similarity_score(\n",
    "    \"I am great at web development and have years of experience\",\n",
    "    \"Need a good full stack web developer which sufficient knowledge and good experience\"\n",
    ")"
   ]
  },
  {
   "cell_type": "code",
   "execution_count": 206,
   "id": "2d63c7bb-2399-48e2-9972-5c0eec45cd16",
   "metadata": {},
   "outputs": [
    {
     "name": "stderr",
     "output_type": "stream",
     "text": [
      "Some weights of BertForTokenClassification were not initialized from the model checkpoint at bert-base-uncased and are newly initialized: ['classifier.bias', 'classifier.weight']\n",
      "You should probably TRAIN this model on a down-stream task to be able to use it for predictions and inference.\n"
     ]
    },
    {
     "name": "stdout",
     "output_type": "stream",
     "text": [
      "Extracted Phrase: [ P A D ]\n"
     ]
    }
   ],
   "source": [
    "from transformers import BertTokenizer, BertForTokenClassification\n",
    "import torch\n",
    "\n",
    "# Define the text and the target phrase to extract\n",
    "text = \"I am good at web development but I don't know machine learning.\"\n",
    "target_phrase = \"I am good at web development\"\n",
    "\n",
    "# Initialize the BERT tokenizer and model\n",
    "tokenizer = BertTokenizer.from_pretrained(\"bert-base-uncased\")\n",
    "model = BertForTokenClassification.from_pretrained(\"bert-base-uncased\")\n",
    "\n",
    "# Tokenize the input text\n",
    "input_ids = tokenizer.encode(text, add_special_tokens=True)\n",
    "input_ids = torch.tensor(input_ids).unsqueeze(0)  # Add batch dimension\n",
    "\n",
    "# Predict the tokens and their labels\n",
    "with torch.no_grad():\n",
    "    outputs = model(input_ids)\n",
    "\n",
    "# Retrieve the predicted labels\n",
    "predicted_labels = outputs.logits.argmax(dim=2).squeeze(0).tolist()\n",
    "predicted_tokens = [tokenizer.convert_ids_to_tokens(ids) for ids in predicted_labels][0]\n",
    "\n",
    "# Combine tokens to reconstruct the extracted phrase\n",
    "extracted_phrase = \" \".join(predicted_tokens).replace(\" ##\", \"\").strip()\n",
    "\n",
    "print(\"Extracted Phrase:\", extracted_phrase)\n",
    "\n",
    "# Check if the extracted phrase matches the target phrase\n",
    "if target_phrase in extracted_phrase:\n",
    "    print(\"Target phrase found in the text.\")\n"
   ]
  },
  {
   "cell_type": "code",
   "execution_count": null,
   "id": "037fac36-ebde-4b1e-afb8-5654bd993818",
   "metadata": {},
   "outputs": [],
   "source": []
  }
 ],
 "metadata": {
  "kernelspec": {
   "display_name": "Python 3 (ipykernel)",
   "language": "python",
   "name": "python3"
  },
  "language_info": {
   "codemirror_mode": {
    "name": "ipython",
    "version": 3
   },
   "file_extension": ".py",
   "mimetype": "text/x-python",
   "name": "python",
   "nbconvert_exporter": "python",
   "pygments_lexer": "ipython3",
   "version": "3.11.5"
  }
 },
 "nbformat": 4,
 "nbformat_minor": 5
}
