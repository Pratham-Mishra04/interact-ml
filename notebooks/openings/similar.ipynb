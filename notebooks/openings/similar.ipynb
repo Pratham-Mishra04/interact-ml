{
 "cells": [
  {
   "cell_type": "code",
   "execution_count": 43,
   "id": "a3806b66-e86e-4702-9757-28ecdc36a0a5",
   "metadata": {},
   "outputs": [],
   "source": [
    "import pandas as pd\n",
    "import numpy as np"
   ]
  },
  {
   "cell_type": "code",
   "execution_count": 109,
   "id": "c32b76ae-4332-40bc-abe5-b082c13438c9",
   "metadata": {},
   "outputs": [],
   "source": [
    "df = pd.read_csv('../../data/openings.csv')"
   ]
  },
  {
   "cell_type": "code",
   "execution_count": 95,
   "id": "28b6fb71-43b6-4574-a28b-d8a5e2718124",
   "metadata": {},
   "outputs": [
    {
     "data": {
      "text/html": [
       "<div>\n",
       "<style scoped>\n",
       "    .dataframe tbody tr th:only-of-type {\n",
       "        vertical-align: middle;\n",
       "    }\n",
       "\n",
       "    .dataframe tbody tr th {\n",
       "        vertical-align: top;\n",
       "    }\n",
       "\n",
       "    .dataframe thead th {\n",
       "        text-align: right;\n",
       "    }\n",
       "</style>\n",
       "<table border=\"1\" class=\"dataframe\">\n",
       "  <thead>\n",
       "    <tr style=\"text-align: right;\">\n",
       "      <th></th>\n",
       "      <th>id</th>\n",
       "      <th>project_id</th>\n",
       "      <th>title</th>\n",
       "      <th>description</th>\n",
       "      <th>tags</th>\n",
       "    </tr>\n",
       "  </thead>\n",
       "  <tbody>\n",
       "    <tr>\n",
       "      <th>0</th>\n",
       "      <td>d569ec70-f3fa-421c-88db-0773b26a2475</td>\n",
       "      <td>22a9acc5-428a-41d4-b056-9bebe9183afe</td>\n",
       "      <td>Designer</td>\n",
       "      <td>Need a good designer fast</td>\n",
       "      <td>['figma', 'ui', 'ux']</td>\n",
       "    </tr>\n",
       "    <tr>\n",
       "      <th>1</th>\n",
       "      <td>aa0d5847-b00b-42e0-8986-6185ecffd449</td>\n",
       "      <td>22a9acc5-428a-41d4-b056-9bebe9183afe</td>\n",
       "      <td>Content Writer</td>\n",
       "      <td>Some description</td>\n",
       "      <td>[]</td>\n",
       "    </tr>\n",
       "    <tr>\n",
       "      <th>2</th>\n",
       "      <td>c888d326-0c57-4ac5-8629-5ee397fd0f6c</td>\n",
       "      <td>22a9acc5-428a-41d4-b056-9bebe9183afe</td>\n",
       "      <td>Manager</td>\n",
       "      <td>management</td>\n",
       "      <td>[]</td>\n",
       "    </tr>\n",
       "    <tr>\n",
       "      <th>3</th>\n",
       "      <td>1067c159-be01-4f89-a1cf-a32cdd67bb72</td>\n",
       "      <td>6f6235eb-a751-43f2-8bad-506c884635db</td>\n",
       "      <td>Backend Developer</td>\n",
       "      <td>This is a new testing description</td>\n",
       "      <td>['golang', 'javascript', 'django']</td>\n",
       "    </tr>\n",
       "    <tr>\n",
       "      <th>4</th>\n",
       "      <td>2bc22ae6-ac3d-4aa5-82a4-dd55b8d8709b</td>\n",
       "      <td>6f6235eb-a751-43f2-8bad-506c884635db</td>\n",
       "      <td>Frontend Developer</td>\n",
       "      <td>need a good and fast paced frontend developer ...</td>\n",
       "      <td>['react', 'next', 'ts']</td>\n",
       "    </tr>\n",
       "  </tbody>\n",
       "</table>\n",
       "</div>"
      ],
      "text/plain": [
       "                                     id                            project_id  \\\n",
       "0  d569ec70-f3fa-421c-88db-0773b26a2475  22a9acc5-428a-41d4-b056-9bebe9183afe   \n",
       "1  aa0d5847-b00b-42e0-8986-6185ecffd449  22a9acc5-428a-41d4-b056-9bebe9183afe   \n",
       "2  c888d326-0c57-4ac5-8629-5ee397fd0f6c  22a9acc5-428a-41d4-b056-9bebe9183afe   \n",
       "3  1067c159-be01-4f89-a1cf-a32cdd67bb72  6f6235eb-a751-43f2-8bad-506c884635db   \n",
       "4  2bc22ae6-ac3d-4aa5-82a4-dd55b8d8709b  6f6235eb-a751-43f2-8bad-506c884635db   \n",
       "\n",
       "                title                                        description  \\\n",
       "0            Designer                          Need a good designer fast   \n",
       "1      Content Writer                                   Some description   \n",
       "2             Manager                                         management   \n",
       "3   Backend Developer                  This is a new testing description   \n",
       "4  Frontend Developer  need a good and fast paced frontend developer ...   \n",
       "\n",
       "                                 tags  \n",
       "0               ['figma', 'ui', 'ux']  \n",
       "1                                  []  \n",
       "2                                  []  \n",
       "3  ['golang', 'javascript', 'django']  \n",
       "4             ['react', 'next', 'ts']  "
      ]
     },
     "execution_count": 95,
     "metadata": {},
     "output_type": "execute_result"
    }
   ],
   "source": [
    "df.head()"
   ]
  },
  {
   "cell_type": "code",
   "execution_count": 96,
   "id": "70f25820-c59a-4382-9a18-44cd156692b8",
   "metadata": {},
   "outputs": [],
   "source": [
    "df['title']=df['title'].apply(lambda x:x.split())\n",
    "df['description']=df['description'].apply(lambda x:x.split())\n",
    "df['project_id']=df['project_id'].apply(lambda x:[x])"
   ]
  },
  {
   "cell_type": "code",
   "execution_count": 97,
   "id": "78aa76c5-45a7-43bf-9853-64b2d1777d66",
   "metadata": {},
   "outputs": [],
   "source": [
    "import ast\n",
    "\n",
    "def parse(obj):\n",
    "    try:\n",
    "        obj = ast.literal_eval(obj)\n",
    "        return obj\n",
    "    except:\n",
    "        return obj\n",
    "\n",
    "df['tags']=df['tags'].apply(parse)"
   ]
  },
  {
   "cell_type": "code",
   "execution_count": 98,
   "id": "8af43b8c-5ddc-49f8-912a-6b4f22819c5f",
   "metadata": {},
   "outputs": [],
   "source": [
    "df['keys']=df['title']+df['description']+df['tags']+df['project_id']"
   ]
  },
  {
   "cell_type": "code",
   "execution_count": 99,
   "id": "0684a37a-8197-4926-b631-6124d8d4f6f2",
   "metadata": {},
   "outputs": [
    {
     "data": {
      "text/html": [
       "<div>\n",
       "<style scoped>\n",
       "    .dataframe tbody tr th:only-of-type {\n",
       "        vertical-align: middle;\n",
       "    }\n",
       "\n",
       "    .dataframe tbody tr th {\n",
       "        vertical-align: top;\n",
       "    }\n",
       "\n",
       "    .dataframe thead th {\n",
       "        text-align: right;\n",
       "    }\n",
       "</style>\n",
       "<table border=\"1\" class=\"dataframe\">\n",
       "  <thead>\n",
       "    <tr style=\"text-align: right;\">\n",
       "      <th></th>\n",
       "      <th>id</th>\n",
       "      <th>project_id</th>\n",
       "      <th>title</th>\n",
       "      <th>description</th>\n",
       "      <th>tags</th>\n",
       "      <th>keys</th>\n",
       "    </tr>\n",
       "  </thead>\n",
       "  <tbody>\n",
       "    <tr>\n",
       "      <th>0</th>\n",
       "      <td>d569ec70-f3fa-421c-88db-0773b26a2475</td>\n",
       "      <td>[22a9acc5-428a-41d4-b056-9bebe9183afe]</td>\n",
       "      <td>[Designer]</td>\n",
       "      <td>[Need, a, good, designer, fast]</td>\n",
       "      <td>[figma, ui, ux]</td>\n",
       "      <td>[Designer, Need, a, good, designer, fast, figm...</td>\n",
       "    </tr>\n",
       "    <tr>\n",
       "      <th>1</th>\n",
       "      <td>aa0d5847-b00b-42e0-8986-6185ecffd449</td>\n",
       "      <td>[22a9acc5-428a-41d4-b056-9bebe9183afe]</td>\n",
       "      <td>[Content, Writer]</td>\n",
       "      <td>[Some, description]</td>\n",
       "      <td>[]</td>\n",
       "      <td>[Content, Writer, Some, description, 22a9acc5-...</td>\n",
       "    </tr>\n",
       "    <tr>\n",
       "      <th>2</th>\n",
       "      <td>c888d326-0c57-4ac5-8629-5ee397fd0f6c</td>\n",
       "      <td>[22a9acc5-428a-41d4-b056-9bebe9183afe]</td>\n",
       "      <td>[Manager]</td>\n",
       "      <td>[management]</td>\n",
       "      <td>[]</td>\n",
       "      <td>[Manager, management, 22a9acc5-428a-41d4-b056-...</td>\n",
       "    </tr>\n",
       "    <tr>\n",
       "      <th>3</th>\n",
       "      <td>1067c159-be01-4f89-a1cf-a32cdd67bb72</td>\n",
       "      <td>[6f6235eb-a751-43f2-8bad-506c884635db]</td>\n",
       "      <td>[Backend, Developer]</td>\n",
       "      <td>[This, is, a, new, testing, description]</td>\n",
       "      <td>[golang, javascript, django]</td>\n",
       "      <td>[Backend, Developer, This, is, a, new, testing...</td>\n",
       "    </tr>\n",
       "    <tr>\n",
       "      <th>4</th>\n",
       "      <td>2bc22ae6-ac3d-4aa5-82a4-dd55b8d8709b</td>\n",
       "      <td>[6f6235eb-a751-43f2-8bad-506c884635db]</td>\n",
       "      <td>[Frontend, Developer]</td>\n",
       "      <td>[need, a, good, and, fast, paced, frontend, de...</td>\n",
       "      <td>[react, next, ts]</td>\n",
       "      <td>[Frontend, Developer, need, a, good, and, fast...</td>\n",
       "    </tr>\n",
       "  </tbody>\n",
       "</table>\n",
       "</div>"
      ],
      "text/plain": [
       "                                     id  \\\n",
       "0  d569ec70-f3fa-421c-88db-0773b26a2475   \n",
       "1  aa0d5847-b00b-42e0-8986-6185ecffd449   \n",
       "2  c888d326-0c57-4ac5-8629-5ee397fd0f6c   \n",
       "3  1067c159-be01-4f89-a1cf-a32cdd67bb72   \n",
       "4  2bc22ae6-ac3d-4aa5-82a4-dd55b8d8709b   \n",
       "\n",
       "                               project_id                  title  \\\n",
       "0  [22a9acc5-428a-41d4-b056-9bebe9183afe]             [Designer]   \n",
       "1  [22a9acc5-428a-41d4-b056-9bebe9183afe]      [Content, Writer]   \n",
       "2  [22a9acc5-428a-41d4-b056-9bebe9183afe]              [Manager]   \n",
       "3  [6f6235eb-a751-43f2-8bad-506c884635db]   [Backend, Developer]   \n",
       "4  [6f6235eb-a751-43f2-8bad-506c884635db]  [Frontend, Developer]   \n",
       "\n",
       "                                         description  \\\n",
       "0                    [Need, a, good, designer, fast]   \n",
       "1                                [Some, description]   \n",
       "2                                       [management]   \n",
       "3           [This, is, a, new, testing, description]   \n",
       "4  [need, a, good, and, fast, paced, frontend, de...   \n",
       "\n",
       "                           tags  \\\n",
       "0               [figma, ui, ux]   \n",
       "1                            []   \n",
       "2                            []   \n",
       "3  [golang, javascript, django]   \n",
       "4             [react, next, ts]   \n",
       "\n",
       "                                                keys  \n",
       "0  [Designer, Need, a, good, designer, fast, figm...  \n",
       "1  [Content, Writer, Some, description, 22a9acc5-...  \n",
       "2  [Manager, management, 22a9acc5-428a-41d4-b056-...  \n",
       "3  [Backend, Developer, This, is, a, new, testing...  \n",
       "4  [Frontend, Developer, need, a, good, and, fast...  "
      ]
     },
     "execution_count": 99,
     "metadata": {},
     "output_type": "execute_result"
    }
   ],
   "source": [
    "df.head()"
   ]
  },
  {
   "cell_type": "code",
   "execution_count": 88,
   "id": "230e41fd-48f1-4a07-a36c-1cf215c45573",
   "metadata": {},
   "outputs": [
    {
     "name": "stderr",
     "output_type": "stream",
     "text": [
      "[nltk_data] Downloading package averaged_perceptron_tagger to\n",
      "[nltk_data]     /Users/prathammishra/nltk_data...\n",
      "[nltk_data]   Package averaged_perceptron_tagger is already up-to-\n",
      "[nltk_data]       date!\n"
     ]
    },
    {
     "data": {
      "text/plain": [
       "True"
      ]
     },
     "execution_count": 88,
     "metadata": {},
     "output_type": "execute_result"
    }
   ],
   "source": [
    "import nltk\n",
    "nltk.download(\"averaged_perceptron_tagger\")"
   ]
  },
  {
   "cell_type": "code",
   "execution_count": 100,
   "id": "b42c4948-0ebb-409b-a358-423ab71415e4",
   "metadata": {},
   "outputs": [],
   "source": [
    "from nltk.stem.porter import PorterStemmer\n",
    "from nltk.corpus import stopwords\n",
    "from nltk import pos_tag, word_tokenize\n",
    "import string\n",
    "\n",
    "ps=PorterStemmer()\n",
    "\n",
    "custom_stopwords = [\"need\", \"want\", \"this\", \"that\", \"fast\"]\n",
    "\n",
    "def stem(x):\n",
    "    L = []\n",
    "    tagged_tokens = pos_tag(x)\n",
    "    for token, pos in tagged_tokens:\n",
    "        token=token.lower()\n",
    "        if pos != 'JJ' and pos != 'JJR' and pos != 'JJS' and token not in custom_stopwords:  # Remove adjectives\n",
    "            stemmed_token = ps.stem(token)\n",
    "            if stemmed_token not in L and stemmed_token not in stopwords.words(\"english\") and stemmed_token not in string.punctuation:\n",
    "                L.append(stemmed_token)\n",
    "    return \" \".join(L)"
   ]
  },
  {
   "cell_type": "code",
   "execution_count": 101,
   "id": "e157fc4a-269b-4a5c-891d-5aa657a1dfe1",
   "metadata": {},
   "outputs": [],
   "source": [
    "df.loc[:,'keys']=df['keys'].apply(stem)"
   ]
  },
  {
   "cell_type": "code",
   "execution_count": 102,
   "id": "40f63741-40b7-47ca-82fc-bcd6964f9ea9",
   "metadata": {},
   "outputs": [],
   "source": [
    "df=df[['id','title','keys']]"
   ]
  },
  {
   "cell_type": "code",
   "execution_count": 103,
   "id": "d50aa726-df21-48f8-8fda-a58be4bf5e50",
   "metadata": {},
   "outputs": [
    {
     "data": {
      "text/html": [
       "<div>\n",
       "<style scoped>\n",
       "    .dataframe tbody tr th:only-of-type {\n",
       "        vertical-align: middle;\n",
       "    }\n",
       "\n",
       "    .dataframe tbody tr th {\n",
       "        vertical-align: top;\n",
       "    }\n",
       "\n",
       "    .dataframe thead th {\n",
       "        text-align: right;\n",
       "    }\n",
       "</style>\n",
       "<table border=\"1\" class=\"dataframe\">\n",
       "  <thead>\n",
       "    <tr style=\"text-align: right;\">\n",
       "      <th></th>\n",
       "      <th>id</th>\n",
       "      <th>title</th>\n",
       "      <th>keys</th>\n",
       "    </tr>\n",
       "  </thead>\n",
       "  <tbody>\n",
       "    <tr>\n",
       "      <th>0</th>\n",
       "      <td>d569ec70-f3fa-421c-88db-0773b26a2475</td>\n",
       "      <td>[Designer]</td>\n",
       "      <td>design figma</td>\n",
       "    </tr>\n",
       "    <tr>\n",
       "      <th>1</th>\n",
       "      <td>aa0d5847-b00b-42e0-8986-6185ecffd449</td>\n",
       "      <td>[Content, Writer]</td>\n",
       "      <td>content writer descript</td>\n",
       "    </tr>\n",
       "    <tr>\n",
       "      <th>2</th>\n",
       "      <td>c888d326-0c57-4ac5-8629-5ee397fd0f6c</td>\n",
       "      <td>[Manager]</td>\n",
       "      <td>manag</td>\n",
       "    </tr>\n",
       "    <tr>\n",
       "      <th>3</th>\n",
       "      <td>1067c159-be01-4f89-a1cf-a32cdd67bb72</td>\n",
       "      <td>[Backend, Developer]</td>\n",
       "      <td>backend develop test descript golang javascrip...</td>\n",
       "    </tr>\n",
       "    <tr>\n",
       "      <th>4</th>\n",
       "      <td>2bc22ae6-ac3d-4aa5-82a4-dd55b8d8709b</td>\n",
       "      <td>[Frontend, Developer]</td>\n",
       "      <td>frontend develop dajkwdbjdbajwkdaw react ts</td>\n",
       "    </tr>\n",
       "  </tbody>\n",
       "</table>\n",
       "</div>"
      ],
      "text/plain": [
       "                                     id                  title  \\\n",
       "0  d569ec70-f3fa-421c-88db-0773b26a2475             [Designer]   \n",
       "1  aa0d5847-b00b-42e0-8986-6185ecffd449      [Content, Writer]   \n",
       "2  c888d326-0c57-4ac5-8629-5ee397fd0f6c              [Manager]   \n",
       "3  1067c159-be01-4f89-a1cf-a32cdd67bb72   [Backend, Developer]   \n",
       "4  2bc22ae6-ac3d-4aa5-82a4-dd55b8d8709b  [Frontend, Developer]   \n",
       "\n",
       "                                                keys  \n",
       "0                                       design figma  \n",
       "1                            content writer descript  \n",
       "2                                              manag  \n",
       "3  backend develop test descript golang javascrip...  \n",
       "4        frontend develop dajkwdbjdbajwkdaw react ts  "
      ]
     },
     "execution_count": 103,
     "metadata": {},
     "output_type": "execute_result"
    }
   ],
   "source": [
    "df.tail()"
   ]
  },
  {
   "cell_type": "code",
   "execution_count": 104,
   "id": "d29b6a45-1442-464e-8301-95b9b631ddc9",
   "metadata": {},
   "outputs": [],
   "source": [
    "from sklearn.feature_extraction.text import CountVectorizer\n",
    "\n",
    "cv = CountVectorizer(max_features=5000)"
   ]
  },
  {
   "cell_type": "code",
   "execution_count": 105,
   "id": "37ac2ff5-51f7-4f52-a789-263aa29fcd3a",
   "metadata": {},
   "outputs": [],
   "source": [
    "vectors = cv.fit_transform(df['keys']).toarray()"
   ]
  },
  {
   "cell_type": "code",
   "execution_count": 106,
   "id": "7d67d50e-151c-4ba6-a75a-12f5e59df314",
   "metadata": {},
   "outputs": [],
   "source": [
    "from sklearn.metrics.pairwise import cosine_similarity\n",
    "\n",
    "similarities = cosine_similarity(vectors)"
   ]
  },
  {
   "cell_type": "code",
   "execution_count": 107,
   "id": "225d415f-64e3-4e63-98bb-b54c97e1cb19",
   "metadata": {},
   "outputs": [
    {
     "data": {
      "text/plain": [
       "(5, 5)"
      ]
     },
     "execution_count": 107,
     "metadata": {},
     "output_type": "execute_result"
    }
   ],
   "source": [
    "similarities.shape"
   ]
  },
  {
   "cell_type": "code",
   "execution_count": 110,
   "id": "09e2c6c4-3b95-43a2-af41-8f709cb9b5b9",
   "metadata": {},
   "outputs": [
    {
     "data": {
      "text/html": [
       "<div>\n",
       "<style scoped>\n",
       "    .dataframe tbody tr th:only-of-type {\n",
       "        vertical-align: middle;\n",
       "    }\n",
       "\n",
       "    .dataframe tbody tr th {\n",
       "        vertical-align: top;\n",
       "    }\n",
       "\n",
       "    .dataframe thead th {\n",
       "        text-align: right;\n",
       "    }\n",
       "</style>\n",
       "<table border=\"1\" class=\"dataframe\">\n",
       "  <thead>\n",
       "    <tr style=\"text-align: right;\">\n",
       "      <th></th>\n",
       "      <th>id</th>\n",
       "      <th>project_id</th>\n",
       "      <th>title</th>\n",
       "      <th>description</th>\n",
       "      <th>tags</th>\n",
       "    </tr>\n",
       "  </thead>\n",
       "  <tbody>\n",
       "    <tr>\n",
       "      <th>0</th>\n",
       "      <td>d569ec70-f3fa-421c-88db-0773b26a2475</td>\n",
       "      <td>22a9acc5-428a-41d4-b056-9bebe9183afe</td>\n",
       "      <td>Designer</td>\n",
       "      <td>Need a good designer fast</td>\n",
       "      <td>['figma', 'ui', 'ux']</td>\n",
       "    </tr>\n",
       "    <tr>\n",
       "      <th>1</th>\n",
       "      <td>aa0d5847-b00b-42e0-8986-6185ecffd449</td>\n",
       "      <td>22a9acc5-428a-41d4-b056-9bebe9183afe</td>\n",
       "      <td>Content Writer</td>\n",
       "      <td>Some description</td>\n",
       "      <td>[]</td>\n",
       "    </tr>\n",
       "    <tr>\n",
       "      <th>2</th>\n",
       "      <td>c888d326-0c57-4ac5-8629-5ee397fd0f6c</td>\n",
       "      <td>22a9acc5-428a-41d4-b056-9bebe9183afe</td>\n",
       "      <td>Manager</td>\n",
       "      <td>management</td>\n",
       "      <td>[]</td>\n",
       "    </tr>\n",
       "    <tr>\n",
       "      <th>3</th>\n",
       "      <td>1067c159-be01-4f89-a1cf-a32cdd67bb72</td>\n",
       "      <td>6f6235eb-a751-43f2-8bad-506c884635db</td>\n",
       "      <td>Backend Developer</td>\n",
       "      <td>This is a new testing description</td>\n",
       "      <td>['golang', 'javascript', 'django']</td>\n",
       "    </tr>\n",
       "    <tr>\n",
       "      <th>4</th>\n",
       "      <td>2bc22ae6-ac3d-4aa5-82a4-dd55b8d8709b</td>\n",
       "      <td>6f6235eb-a751-43f2-8bad-506c884635db</td>\n",
       "      <td>Frontend Developer</td>\n",
       "      <td>need a good and fast paced frontend developer ...</td>\n",
       "      <td>['react', 'next', 'ts']</td>\n",
       "    </tr>\n",
       "  </tbody>\n",
       "</table>\n",
       "</div>"
      ],
      "text/plain": [
       "                                     id                            project_id  \\\n",
       "0  d569ec70-f3fa-421c-88db-0773b26a2475  22a9acc5-428a-41d4-b056-9bebe9183afe   \n",
       "1  aa0d5847-b00b-42e0-8986-6185ecffd449  22a9acc5-428a-41d4-b056-9bebe9183afe   \n",
       "2  c888d326-0c57-4ac5-8629-5ee397fd0f6c  22a9acc5-428a-41d4-b056-9bebe9183afe   \n",
       "3  1067c159-be01-4f89-a1cf-a32cdd67bb72  6f6235eb-a751-43f2-8bad-506c884635db   \n",
       "4  2bc22ae6-ac3d-4aa5-82a4-dd55b8d8709b  6f6235eb-a751-43f2-8bad-506c884635db   \n",
       "\n",
       "                title                                        description  \\\n",
       "0            Designer                          Need a good designer fast   \n",
       "1      Content Writer                                   Some description   \n",
       "2             Manager                                         management   \n",
       "3   Backend Developer                  This is a new testing description   \n",
       "4  Frontend Developer  need a good and fast paced frontend developer ...   \n",
       "\n",
       "                                 tags  \n",
       "0               ['figma', 'ui', 'ux']  \n",
       "1                                  []  \n",
       "2                                  []  \n",
       "3  ['golang', 'javascript', 'django']  \n",
       "4             ['react', 'next', 'ts']  "
      ]
     },
     "execution_count": 110,
     "metadata": {},
     "output_type": "execute_result"
    }
   ],
   "source": [
    "df"
   ]
  },
  {
   "cell_type": "code",
   "execution_count": 147,
   "id": "8231e6ad-d843-44c6-af7d-f195995702a4",
   "metadata": {},
   "outputs": [],
   "source": [
    "def recommend(opening_id):\n",
    "    try:\n",
    "        opening_index = df[df['id'].str.lower()==opening_id.lower()].index[0]\n",
    "        distances = similarities[opening_index]\n",
    "        opening_objs = sorted(list(enumerate(distances)), reverse=True, key=lambda x:x[1])[1:6]\n",
    "        return [(df.iloc[i[0]].id, df.iloc[i[0]].title, f\"{round(i[1]*100,2)}%\") for i in opening_objs]\n",
    "    except:\n",
    "        return []"
   ]
  },
  {
   "cell_type": "code",
   "execution_count": 148,
   "id": "00f124e0-5f5c-49da-b139-5e15704c8c45",
   "metadata": {},
   "outputs": [
    {
     "data": {
      "text/plain": [
       "[('1067c159-be01-4f89-a1cf-a32cdd67bb72', 'Backend Developer', '16.9%'),\n",
       " ('d569ec70-f3fa-421c-88db-0773b26a2475', 'Designer', '0.0%'),\n",
       " ('aa0d5847-b00b-42e0-8986-6185ecffd449', 'Content Writer', '0.0%'),\n",
       " ('c888d326-0c57-4ac5-8629-5ee397fd0f6c', 'Manager', '0.0%')]"
      ]
     },
     "execution_count": 148,
     "metadata": {},
     "output_type": "execute_result"
    }
   ],
   "source": [
    "# for opening: Frontend Developer\n",
    "recommend(\"2bc22ae6-ac3d-4aa5-82a4-dd55b8d8709b\")"
   ]
  },
  {
   "cell_type": "code",
   "execution_count": 135,
   "id": "531541a8-567a-4765-aeeb-b67cf441085a",
   "metadata": {},
   "outputs": [],
   "source": [
    "import pickle\n",
    "\n",
    "with open('../../models/openings/similarities.pickle', 'wb') as f:\n",
    "    pickle.dump(similarities, f)"
   ]
  }
 ],
 "metadata": {
  "kernelspec": {
   "display_name": "Python 3 (ipykernel)",
   "language": "python",
   "name": "python3"
  },
  "language_info": {
   "codemirror_mode": {
    "name": "ipython",
    "version": 3
   },
   "file_extension": ".py",
   "mimetype": "text/x-python",
   "name": "python",
   "nbconvert_exporter": "python",
   "pygments_lexer": "ipython3",
   "version": "3.11.5"
  }
 },
 "nbformat": 4,
 "nbformat_minor": 5
}
