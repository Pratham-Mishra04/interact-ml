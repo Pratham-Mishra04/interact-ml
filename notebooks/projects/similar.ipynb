{
 "cells": [
  {
   "cell_type": "code",
   "execution_count": 1,
   "id": "a3806b66-e86e-4702-9757-28ecdc36a0a5",
   "metadata": {},
   "outputs": [],
   "source": [
    "import pandas as pd\n",
    "import numpy as np"
   ]
  },
  {
   "cell_type": "code",
   "execution_count": 2,
   "id": "c32b76ae-4332-40bc-abe5-b082c13438c9",
   "metadata": {},
   "outputs": [],
   "source": [
    "df = pd.read_csv('../../data/projects.csv')"
   ]
  },
  {
   "cell_type": "code",
   "execution_count": 3,
   "id": "28b6fb71-43b6-4574-a28b-d8a5e2718124",
   "metadata": {},
   "outputs": [
    {
     "data": {
      "text/html": [
       "<div>\n",
       "<style scoped>\n",
       "    .dataframe tbody tr th:only-of-type {\n",
       "        vertical-align: middle;\n",
       "    }\n",
       "\n",
       "    .dataframe tbody tr th {\n",
       "        vertical-align: top;\n",
       "    }\n",
       "\n",
       "    .dataframe thead th {\n",
       "        text-align: right;\n",
       "    }\n",
       "</style>\n",
       "<table border=\"1\" class=\"dataframe\">\n",
       "  <thead>\n",
       "    <tr style=\"text-align: right;\">\n",
       "      <th></th>\n",
       "      <th>id</th>\n",
       "      <th>title</th>\n",
       "      <th>tagline</th>\n",
       "      <th>description</th>\n",
       "      <th>userID</th>\n",
       "      <th>tags</th>\n",
       "      <th>category</th>\n",
       "    </tr>\n",
       "  </thead>\n",
       "  <tbody>\n",
       "    <tr>\n",
       "      <th>0</th>\n",
       "      <td>34397bb8-f13d-4b61-8ea0-32434a69037a</td>\n",
       "      <td>Smart Home Automation System</td>\n",
       "      <td>Simplify your life with intelligent automation</td>\n",
       "      <td>Create a cutting-edge smart home system that e...</td>\n",
       "      <td>67ebb62d-935d-4e45-b5a5-5e0536b18ebb</td>\n",
       "      <td>['iot', 'automation', 'home', 'smart technology']</td>\n",
       "      <td>Technology and Software</td>\n",
       "    </tr>\n",
       "    <tr>\n",
       "      <th>1</th>\n",
       "      <td>0266a2f8-221a-4e17-81bf-6b25b0556ea4</td>\n",
       "      <td>Clean Energy Solutions for Urban Areas</td>\n",
       "      <td>Powering cities with renewable energy</td>\n",
       "      <td>Develop sustainable energy solutions for urban...</td>\n",
       "      <td>5151225c-2cea-4311-b2bf-ee619ca8a474</td>\n",
       "      <td>['renewable energy', 'sustainability', 'urban ...</td>\n",
       "      <td>Sustainability and Green Tech</td>\n",
       "    </tr>\n",
       "    <tr>\n",
       "      <th>2</th>\n",
       "      <td>254a2efd-3e08-440c-b36f-5a53be17ee37</td>\n",
       "      <td>Online Learning Platform for STEM Education</td>\n",
       "      <td>Unlock the potential of online STEM education</td>\n",
       "      <td>Build an interactive e-learning platform that ...</td>\n",
       "      <td>67ebb62d-935d-4e45-b5a5-5e0536b18ebb</td>\n",
       "      <td>['e-learning', 'stem education', 'online learn...</td>\n",
       "      <td>Education and E-Learning</td>\n",
       "    </tr>\n",
       "    <tr>\n",
       "      <th>3</th>\n",
       "      <td>6d4a90b9-c52b-497d-b4d1-e5201ab1a916</td>\n",
       "      <td>Artificial Intelligence in Healthcare</td>\n",
       "      <td>Revolutionizing healthcare with AI</td>\n",
       "      <td>Implement AI and machine learning algorithms t...</td>\n",
       "      <td>5151225c-2cea-4311-b2bf-ee619ca8a474</td>\n",
       "      <td>['healthcare', 'ai', 'machine learning', 'medi...</td>\n",
       "      <td>Health and Wellness</td>\n",
       "    </tr>\n",
       "    <tr>\n",
       "      <th>4</th>\n",
       "      <td>e8a7d9e7-5b72-4689-905d-4d737a9d494b</td>\n",
       "      <td>Virtual Reality Gaming Experience</td>\n",
       "      <td>Immerse yourself in a new world of gaming</td>\n",
       "      <td>Create an exciting VR gaming platform with stu...</td>\n",
       "      <td>1c57a6ca-46a0-4163-ac29-4bd9ac32086a</td>\n",
       "      <td>['gaming', 'virtual reality', 'entertainment']</td>\n",
       "      <td>Arts and Entertainment</td>\n",
       "    </tr>\n",
       "  </tbody>\n",
       "</table>\n",
       "</div>"
      ],
      "text/plain": [
       "                                     id  \\\n",
       "0  34397bb8-f13d-4b61-8ea0-32434a69037a   \n",
       "1  0266a2f8-221a-4e17-81bf-6b25b0556ea4   \n",
       "2  254a2efd-3e08-440c-b36f-5a53be17ee37   \n",
       "3  6d4a90b9-c52b-497d-b4d1-e5201ab1a916   \n",
       "4  e8a7d9e7-5b72-4689-905d-4d737a9d494b   \n",
       "\n",
       "                                         title  \\\n",
       "0                 Smart Home Automation System   \n",
       "1       Clean Energy Solutions for Urban Areas   \n",
       "2  Online Learning Platform for STEM Education   \n",
       "3        Artificial Intelligence in Healthcare   \n",
       "4            Virtual Reality Gaming Experience   \n",
       "\n",
       "                                          tagline  \\\n",
       "0  Simplify your life with intelligent automation   \n",
       "1           Powering cities with renewable energy   \n",
       "2   Unlock the potential of online STEM education   \n",
       "3              Revolutionizing healthcare with AI   \n",
       "4       Immerse yourself in a new world of gaming   \n",
       "\n",
       "                                         description  \\\n",
       "0  Create a cutting-edge smart home system that e...   \n",
       "1  Develop sustainable energy solutions for urban...   \n",
       "2  Build an interactive e-learning platform that ...   \n",
       "3  Implement AI and machine learning algorithms t...   \n",
       "4  Create an exciting VR gaming platform with stu...   \n",
       "\n",
       "                                 userID  \\\n",
       "0  67ebb62d-935d-4e45-b5a5-5e0536b18ebb   \n",
       "1  5151225c-2cea-4311-b2bf-ee619ca8a474   \n",
       "2  67ebb62d-935d-4e45-b5a5-5e0536b18ebb   \n",
       "3  5151225c-2cea-4311-b2bf-ee619ca8a474   \n",
       "4  1c57a6ca-46a0-4163-ac29-4bd9ac32086a   \n",
       "\n",
       "                                                tags  \\\n",
       "0  ['iot', 'automation', 'home', 'smart technology']   \n",
       "1  ['renewable energy', 'sustainability', 'urban ...   \n",
       "2  ['e-learning', 'stem education', 'online learn...   \n",
       "3  ['healthcare', 'ai', 'machine learning', 'medi...   \n",
       "4     ['gaming', 'virtual reality', 'entertainment']   \n",
       "\n",
       "                        category  \n",
       "0        Technology and Software  \n",
       "1  Sustainability and Green Tech  \n",
       "2       Education and E-Learning  \n",
       "3            Health and Wellness  \n",
       "4         Arts and Entertainment  "
      ]
     },
     "execution_count": 3,
     "metadata": {},
     "output_type": "execute_result"
    }
   ],
   "source": [
    "df.head()"
   ]
  },
  {
   "cell_type": "code",
   "execution_count": 5,
   "id": "70f25820-c59a-4382-9a18-44cd156692b8",
   "metadata": {},
   "outputs": [],
   "source": [
    "df['tagline']=df['tagline'].apply(lambda x:x.split())\n",
    "df['description']=df['description'].apply(lambda x:x.split())\n",
    "df['category']=df['category'].apply(lambda x:x.split())"
   ]
  },
  {
   "cell_type": "code",
   "execution_count": 6,
   "id": "78aa76c5-45a7-43bf-9853-64b2d1777d66",
   "metadata": {},
   "outputs": [],
   "source": [
    "import ast\n",
    "\n",
    "def parse(obj):\n",
    "    try:\n",
    "        obj = ast.literal_eval(obj)\n",
    "        return obj\n",
    "    except:\n",
    "        return obj\n",
    "\n",
    "df['tags']=df['tags'].apply(parse)"
   ]
  },
  {
   "cell_type": "code",
   "execution_count": 7,
   "id": "8af43b8c-5ddc-49f8-912a-6b4f22819c5f",
   "metadata": {},
   "outputs": [],
   "source": [
    "df['keys']=df['tagline']+df['description']+df['tags']+df['category']"
   ]
  },
  {
   "cell_type": "code",
   "execution_count": 8,
   "id": "0684a37a-8197-4926-b631-6124d8d4f6f2",
   "metadata": {},
   "outputs": [
    {
     "data": {
      "text/html": [
       "<div>\n",
       "<style scoped>\n",
       "    .dataframe tbody tr th:only-of-type {\n",
       "        vertical-align: middle;\n",
       "    }\n",
       "\n",
       "    .dataframe tbody tr th {\n",
       "        vertical-align: top;\n",
       "    }\n",
       "\n",
       "    .dataframe thead th {\n",
       "        text-align: right;\n",
       "    }\n",
       "</style>\n",
       "<table border=\"1\" class=\"dataframe\">\n",
       "  <thead>\n",
       "    <tr style=\"text-align: right;\">\n",
       "      <th></th>\n",
       "      <th>id</th>\n",
       "      <th>title</th>\n",
       "      <th>tagline</th>\n",
       "      <th>description</th>\n",
       "      <th>userID</th>\n",
       "      <th>tags</th>\n",
       "      <th>category</th>\n",
       "      <th>keys</th>\n",
       "    </tr>\n",
       "  </thead>\n",
       "  <tbody>\n",
       "    <tr>\n",
       "      <th>0</th>\n",
       "      <td>34397bb8-f13d-4b61-8ea0-32434a69037a</td>\n",
       "      <td>Smart Home Automation System</td>\n",
       "      <td>[Simplify, your, life, with, intelligent, auto...</td>\n",
       "      <td>[Create, a, cutting-edge, smart, home, system,...</td>\n",
       "      <td>67ebb62d-935d-4e45-b5a5-5e0536b18ebb</td>\n",
       "      <td>[iot, automation, home, smart technology]</td>\n",
       "      <td>[Technology, and, Software]</td>\n",
       "      <td>[Simplify, your, life, with, intelligent, auto...</td>\n",
       "    </tr>\n",
       "    <tr>\n",
       "      <th>1</th>\n",
       "      <td>0266a2f8-221a-4e17-81bf-6b25b0556ea4</td>\n",
       "      <td>Clean Energy Solutions for Urban Areas</td>\n",
       "      <td>[Powering, cities, with, renewable, energy]</td>\n",
       "      <td>[Develop, sustainable, energy, solutions, for,...</td>\n",
       "      <td>5151225c-2cea-4311-b2bf-ee619ca8a474</td>\n",
       "      <td>[renewable energy, sustainability, urban devel...</td>\n",
       "      <td>[Sustainability, and, Green, Tech]</td>\n",
       "      <td>[Powering, cities, with, renewable, energy, De...</td>\n",
       "    </tr>\n",
       "    <tr>\n",
       "      <th>2</th>\n",
       "      <td>254a2efd-3e08-440c-b36f-5a53be17ee37</td>\n",
       "      <td>Online Learning Platform for STEM Education</td>\n",
       "      <td>[Unlock, the, potential, of, online, STEM, edu...</td>\n",
       "      <td>[Build, an, interactive, e-learning, platform,...</td>\n",
       "      <td>67ebb62d-935d-4e45-b5a5-5e0536b18ebb</td>\n",
       "      <td>[e-learning, stem education, online learning]</td>\n",
       "      <td>[Education, and, E-Learning]</td>\n",
       "      <td>[Unlock, the, potential, of, online, STEM, edu...</td>\n",
       "    </tr>\n",
       "    <tr>\n",
       "      <th>3</th>\n",
       "      <td>6d4a90b9-c52b-497d-b4d1-e5201ab1a916</td>\n",
       "      <td>Artificial Intelligence in Healthcare</td>\n",
       "      <td>[Revolutionizing, healthcare, with, AI]</td>\n",
       "      <td>[Implement, AI, and, machine, learning, algori...</td>\n",
       "      <td>5151225c-2cea-4311-b2bf-ee619ca8a474</td>\n",
       "      <td>[healthcare, ai, machine learning, medical tec...</td>\n",
       "      <td>[Health, and, Wellness]</td>\n",
       "      <td>[Revolutionizing, healthcare, with, AI, Implem...</td>\n",
       "    </tr>\n",
       "    <tr>\n",
       "      <th>4</th>\n",
       "      <td>e8a7d9e7-5b72-4689-905d-4d737a9d494b</td>\n",
       "      <td>Virtual Reality Gaming Experience</td>\n",
       "      <td>[Immerse, yourself, in, a, new, world, of, gam...</td>\n",
       "      <td>[Create, an, exciting, VR, gaming, platform, w...</td>\n",
       "      <td>1c57a6ca-46a0-4163-ac29-4bd9ac32086a</td>\n",
       "      <td>[gaming, virtual reality, entertainment]</td>\n",
       "      <td>[Arts, and, Entertainment]</td>\n",
       "      <td>[Immerse, yourself, in, a, new, world, of, gam...</td>\n",
       "    </tr>\n",
       "  </tbody>\n",
       "</table>\n",
       "</div>"
      ],
      "text/plain": [
       "                                     id  \\\n",
       "0  34397bb8-f13d-4b61-8ea0-32434a69037a   \n",
       "1  0266a2f8-221a-4e17-81bf-6b25b0556ea4   \n",
       "2  254a2efd-3e08-440c-b36f-5a53be17ee37   \n",
       "3  6d4a90b9-c52b-497d-b4d1-e5201ab1a916   \n",
       "4  e8a7d9e7-5b72-4689-905d-4d737a9d494b   \n",
       "\n",
       "                                         title  \\\n",
       "0                 Smart Home Automation System   \n",
       "1       Clean Energy Solutions for Urban Areas   \n",
       "2  Online Learning Platform for STEM Education   \n",
       "3        Artificial Intelligence in Healthcare   \n",
       "4            Virtual Reality Gaming Experience   \n",
       "\n",
       "                                             tagline  \\\n",
       "0  [Simplify, your, life, with, intelligent, auto...   \n",
       "1        [Powering, cities, with, renewable, energy]   \n",
       "2  [Unlock, the, potential, of, online, STEM, edu...   \n",
       "3            [Revolutionizing, healthcare, with, AI]   \n",
       "4  [Immerse, yourself, in, a, new, world, of, gam...   \n",
       "\n",
       "                                         description  \\\n",
       "0  [Create, a, cutting-edge, smart, home, system,...   \n",
       "1  [Develop, sustainable, energy, solutions, for,...   \n",
       "2  [Build, an, interactive, e-learning, platform,...   \n",
       "3  [Implement, AI, and, machine, learning, algori...   \n",
       "4  [Create, an, exciting, VR, gaming, platform, w...   \n",
       "\n",
       "                                 userID  \\\n",
       "0  67ebb62d-935d-4e45-b5a5-5e0536b18ebb   \n",
       "1  5151225c-2cea-4311-b2bf-ee619ca8a474   \n",
       "2  67ebb62d-935d-4e45-b5a5-5e0536b18ebb   \n",
       "3  5151225c-2cea-4311-b2bf-ee619ca8a474   \n",
       "4  1c57a6ca-46a0-4163-ac29-4bd9ac32086a   \n",
       "\n",
       "                                                tags  \\\n",
       "0          [iot, automation, home, smart technology]   \n",
       "1  [renewable energy, sustainability, urban devel...   \n",
       "2      [e-learning, stem education, online learning]   \n",
       "3  [healthcare, ai, machine learning, medical tec...   \n",
       "4           [gaming, virtual reality, entertainment]   \n",
       "\n",
       "                             category  \\\n",
       "0         [Technology, and, Software]   \n",
       "1  [Sustainability, and, Green, Tech]   \n",
       "2        [Education, and, E-Learning]   \n",
       "3             [Health, and, Wellness]   \n",
       "4          [Arts, and, Entertainment]   \n",
       "\n",
       "                                                keys  \n",
       "0  [Simplify, your, life, with, intelligent, auto...  \n",
       "1  [Powering, cities, with, renewable, energy, De...  \n",
       "2  [Unlock, the, potential, of, online, STEM, edu...  \n",
       "3  [Revolutionizing, healthcare, with, AI, Implem...  \n",
       "4  [Immerse, yourself, in, a, new, world, of, gam...  "
      ]
     },
     "execution_count": 8,
     "metadata": {},
     "output_type": "execute_result"
    }
   ],
   "source": [
    "df.head()"
   ]
  },
  {
   "cell_type": "code",
   "execution_count": 9,
   "id": "b42c4948-0ebb-409b-a358-423ab71415e4",
   "metadata": {},
   "outputs": [],
   "source": [
    "from nltk.stem.porter import PorterStemmer\n",
    "from nltk.corpus import stopwords\n",
    "from nltk import pos_tag, word_tokenize\n",
    "import string\n",
    "\n",
    "ps=PorterStemmer()\n",
    "\n",
    "custom_stopwords = [\"need\", \"want\", \"this\", \"that\", \"fast\"]\n",
    "\n",
    "def stem(x):\n",
    "    L = []\n",
    "    tagged_tokens = pos_tag(x)\n",
    "    for token, pos in tagged_tokens:\n",
    "        token=token.lower()\n",
    "        if pos != 'JJ' and pos != 'JJR' and pos != 'JJS' and token not in custom_stopwords:  # Remove adjectives\n",
    "            stemmed_token = ps.stem(token)\n",
    "            if stemmed_token not in L and stemmed_token not in stopwords.words(\"english\") and stemmed_token not in string.punctuation:\n",
    "                L.append(stemmed_token)\n",
    "    return \" \".join(L)"
   ]
  },
  {
   "cell_type": "code",
   "execution_count": 10,
   "id": "e157fc4a-269b-4a5c-891d-5aa657a1dfe1",
   "metadata": {},
   "outputs": [],
   "source": [
    "df.loc[:,'keys']=df['keys'].apply(stem)"
   ]
  },
  {
   "cell_type": "code",
   "execution_count": 11,
   "id": "40f63741-40b7-47ca-82fc-bcd6964f9ea9",
   "metadata": {},
   "outputs": [],
   "source": [
    "df=df[['id','title','keys']]"
   ]
  },
  {
   "cell_type": "code",
   "execution_count": 12,
   "id": "d50aa726-df21-48f8-8fda-a58be4bf5e50",
   "metadata": {},
   "outputs": [
    {
     "data": {
      "text/html": [
       "<div>\n",
       "<style scoped>\n",
       "    .dataframe tbody tr th:only-of-type {\n",
       "        vertical-align: middle;\n",
       "    }\n",
       "\n",
       "    .dataframe tbody tr th {\n",
       "        vertical-align: top;\n",
       "    }\n",
       "\n",
       "    .dataframe thead th {\n",
       "        text-align: right;\n",
       "    }\n",
       "</style>\n",
       "<table border=\"1\" class=\"dataframe\">\n",
       "  <thead>\n",
       "    <tr style=\"text-align: right;\">\n",
       "      <th></th>\n",
       "      <th>id</th>\n",
       "      <th>title</th>\n",
       "      <th>keys</th>\n",
       "    </tr>\n",
       "  </thead>\n",
       "  <tbody>\n",
       "    <tr>\n",
       "      <th>55</th>\n",
       "      <td>56c1b2b6-2019-4f1c-a548-d7b1d27c534a</td>\n",
       "      <td>Eco-Friendly Adventure Tours</td>\n",
       "      <td>explor natur respons offer adventur tour trave...</td>\n",
       "    </tr>\n",
       "    <tr>\n",
       "      <th>56</th>\n",
       "      <td>0dec8447-f8a0-4318-a75f-52346292a822</td>\n",
       "      <td>Green Transportation Solutions</td>\n",
       "      <td>eco-friendli commut made develop platform tran...</td>\n",
       "    </tr>\n",
       "    <tr>\n",
       "      <th>57</th>\n",
       "      <td>8214f7da-c548-479a-b6ed-fe3f8c21de0f</td>\n",
       "      <td>Sustainable Travel Accommodations</td>\n",
       "      <td>stay explor curat network accommodations, lodg...</td>\n",
       "    </tr>\n",
       "    <tr>\n",
       "      <th>58</th>\n",
       "      <td>835ef975-98a9-46e6-872e-085df5d14708</td>\n",
       "      <td>Eco-Friendly Travel Booking Service</td>\n",
       "      <td>travel sustain us creat book platform promot e...</td>\n",
       "    </tr>\n",
       "    <tr>\n",
       "      <th>59</th>\n",
       "      <td>def74e9c-ed9d-42fc-a20e-00cc35d69c24</td>\n",
       "      <td>Global Eco-Tourism Initiative</td>\n",
       "      <td>preserv natur travel launch initi encourag eco...</td>\n",
       "    </tr>\n",
       "  </tbody>\n",
       "</table>\n",
       "</div>"
      ],
      "text/plain": [
       "                                      id                                title  \\\n",
       "55  56c1b2b6-2019-4f1c-a548-d7b1d27c534a         Eco-Friendly Adventure Tours   \n",
       "56  0dec8447-f8a0-4318-a75f-52346292a822       Green Transportation Solutions   \n",
       "57  8214f7da-c548-479a-b6ed-fe3f8c21de0f    Sustainable Travel Accommodations   \n",
       "58  835ef975-98a9-46e6-872e-085df5d14708  Eco-Friendly Travel Booking Service   \n",
       "59  def74e9c-ed9d-42fc-a20e-00cc35d69c24        Global Eco-Tourism Initiative   \n",
       "\n",
       "                                                 keys  \n",
       "55  explor natur respons offer adventur tour trave...  \n",
       "56  eco-friendli commut made develop platform tran...  \n",
       "57  stay explor curat network accommodations, lodg...  \n",
       "58  travel sustain us creat book platform promot e...  \n",
       "59  preserv natur travel launch initi encourag eco...  "
      ]
     },
     "execution_count": 12,
     "metadata": {},
     "output_type": "execute_result"
    }
   ],
   "source": [
    "df.tail()"
   ]
  },
  {
   "cell_type": "code",
   "execution_count": 13,
   "id": "d29b6a45-1442-464e-8301-95b9b631ddc9",
   "metadata": {},
   "outputs": [],
   "source": [
    "from sklearn.feature_extraction.text import CountVectorizer\n",
    "\n",
    "cv = CountVectorizer(max_features=5000)"
   ]
  },
  {
   "cell_type": "code",
   "execution_count": 14,
   "id": "37ac2ff5-51f7-4f52-a789-263aa29fcd3a",
   "metadata": {},
   "outputs": [],
   "source": [
    "vectors = cv.fit_transform(df['keys']).toarray()"
   ]
  },
  {
   "cell_type": "code",
   "execution_count": 15,
   "id": "7d67d50e-151c-4ba6-a75a-12f5e59df314",
   "metadata": {},
   "outputs": [],
   "source": [
    "from sklearn.metrics.pairwise import cosine_similarity\n",
    "\n",
    "similarities = cosine_similarity(vectors)"
   ]
  },
  {
   "cell_type": "code",
   "execution_count": 16,
   "id": "225d415f-64e3-4e63-98bb-b54c97e1cb19",
   "metadata": {},
   "outputs": [
    {
     "data": {
      "text/plain": [
       "(60, 60)"
      ]
     },
     "execution_count": 16,
     "metadata": {},
     "output_type": "execute_result"
    }
   ],
   "source": [
    "similarities.shape"
   ]
  },
  {
   "cell_type": "code",
   "execution_count": 17,
   "id": "8231e6ad-d843-44c6-af7d-f195995702a4",
   "metadata": {},
   "outputs": [],
   "source": [
    "def recommend(project_id):\n",
    "    try:\n",
    "        movie_index = df[df['id'].str.lower()==project_id.lower()].index[0]\n",
    "        distances = similarities[movie_index]\n",
    "        movie_objs = sorted(list(enumerate(distances)), reverse=True, key=lambda x:x[1])[1:6]\n",
    "\n",
    "        return [(df.iloc[i[0]].id, df.iloc[i[0]].title) for i in movie_objs]\n",
    "    except:\n",
    "        return []"
   ]
  },
  {
   "cell_type": "code",
   "execution_count": 18,
   "id": "00f124e0-5f5c-49da-b139-5e15704c8c45",
   "metadata": {},
   "outputs": [
    {
     "data": {
      "text/plain": [
       "[]"
      ]
     },
     "execution_count": 18,
     "metadata": {},
     "output_type": "execute_result"
    }
   ],
   "source": [
    "# for project: Sustainable Travel Accommodations\n",
    "recommend(\"4468fecd-37cd-4f84-a998-ac868c0a3268\")"
   ]
  },
  {
   "cell_type": "code",
   "execution_count": 19,
   "id": "531541a8-567a-4765-aeeb-b67cf441085a",
   "metadata": {},
   "outputs": [],
   "source": [
    "import pickle\n",
    "\n",
    "with open('../../models/projects/similarities.pickle', 'wb') as f:\n",
    "    pickle.dump(similarities, f)"
   ]
  }
 ],
 "metadata": {
  "kernelspec": {
   "display_name": "Python 3 (ipykernel)",
   "language": "python",
   "name": "python3"
  },
  "language_info": {
   "codemirror_mode": {
    "name": "ipython",
    "version": 3
   },
   "file_extension": ".py",
   "mimetype": "text/x-python",
   "name": "python",
   "nbconvert_exporter": "python",
   "pygments_lexer": "ipython3",
   "version": "3.11.5"
  }
 },
 "nbformat": 4,
 "nbformat_minor": 5
}
