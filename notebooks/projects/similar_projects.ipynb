{
 "cells": [
  {
   "cell_type": "code",
   "execution_count": 1,
   "id": "a3806b66-e86e-4702-9757-28ecdc36a0a5",
   "metadata": {},
   "outputs": [],
   "source": [
    "import pandas as pd\n",
    "import numpy as np"
   ]
  },
  {
   "cell_type": "code",
   "execution_count": 2,
   "id": "c32b76ae-4332-40bc-abe5-b082c13438c9",
   "metadata": {},
   "outputs": [],
   "source": [
    "df = pd.read_csv('../../data/projects.csv')"
   ]
  },
  {
   "cell_type": "code",
   "execution_count": 3,
   "id": "28b6fb71-43b6-4574-a28b-d8a5e2718124",
   "metadata": {},
   "outputs": [
    {
     "data": {
      "text/html": [
       "<div>\n",
       "<style scoped>\n",
       "    .dataframe tbody tr th:only-of-type {\n",
       "        vertical-align: middle;\n",
       "    }\n",
       "\n",
       "    .dataframe tbody tr th {\n",
       "        vertical-align: top;\n",
       "    }\n",
       "\n",
       "    .dataframe thead th {\n",
       "        text-align: right;\n",
       "    }\n",
       "</style>\n",
       "<table border=\"1\" class=\"dataframe\">\n",
       "  <thead>\n",
       "    <tr style=\"text-align: right;\">\n",
       "      <th></th>\n",
       "      <th>id</th>\n",
       "      <th>title</th>\n",
       "      <th>tagline</th>\n",
       "      <th>description</th>\n",
       "      <th>userID</th>\n",
       "      <th>tags</th>\n",
       "      <th>category</th>\n",
       "    </tr>\n",
       "  </thead>\n",
       "  <tbody>\n",
       "    <tr>\n",
       "      <th>0</th>\n",
       "      <td>41edbc3e-2636-4806-bd87-4c19f273bb3c</td>\n",
       "      <td>Test Project</td>\n",
       "      <td>some tagline</td>\n",
       "      <td>some description</td>\n",
       "      <td>5f5a90e2-6601-480c-bc08-7592e06beacd</td>\n",
       "      <td>['coding', 'new-tag']</td>\n",
       "      <td>Health and Wellness</td>\n",
       "    </tr>\n",
       "    <tr>\n",
       "      <th>1</th>\n",
       "      <td>467f58b6-c640-493a-aceb-36dea9881778</td>\n",
       "      <td>To the Cosmos</td>\n",
       "      <td>Where Dreams Touch the Stars</td>\n",
       "      <td>Cosmos is a visionary project that propels you...</td>\n",
       "      <td>0db6b893-14aa-4ae5-8e57-692ca7943ab5</td>\n",
       "      <td>['exploration', 'beyondearth', 'software', 'st...</td>\n",
       "      <td>Travel and Exploration</td>\n",
       "    </tr>\n",
       "    <tr>\n",
       "      <th>2</th>\n",
       "      <td>6f6235eb-a751-43f2-8bad-506c884635db</td>\n",
       "      <td>Cosmos</td>\n",
       "      <td>Enter the starline</td>\n",
       "      <td>Lorem ipsum dolor sit, amet consectetur adipis...</td>\n",
       "      <td>0db6b893-14aa-4ae5-8e57-692ca7943ab5</td>\n",
       "      <td>['astronomy', 'physics', 'website']</td>\n",
       "      <td>Astronomy</td>\n",
       "    </tr>\n",
       "    <tr>\n",
       "      <th>3</th>\n",
       "      <td>b5a0f61f-6ae4-4036-97c1-beb0b5605a7a</td>\n",
       "      <td>Space Explorer</td>\n",
       "      <td>To the space and beyond</td>\n",
       "      <td>Sky Explorer is an ambitious and groundbreakin...</td>\n",
       "      <td>0db6b893-14aa-4ae5-8e57-692ca7943ab5</td>\n",
       "      <td>['space', 'exploration', 'app', 'spacetravel',...</td>\n",
       "      <td>Travel and Exploration</td>\n",
       "    </tr>\n",
       "    <tr>\n",
       "      <th>4</th>\n",
       "      <td>45ba1903-cafe-4e57-b7ec-1de402d32cc1</td>\n",
       "      <td>Interact</td>\n",
       "      <td>create, connect, collaborate</td>\n",
       "      <td>Lorem ipsum dolor sit, amet consectetur adipis...</td>\n",
       "      <td>0db6b893-14aa-4ae5-8e57-692ca7943ab5</td>\n",
       "      <td>['js', 'ts', 'students']</td>\n",
       "      <td>tech</td>\n",
       "    </tr>\n",
       "  </tbody>\n",
       "</table>\n",
       "</div>"
      ],
      "text/plain": [
       "                                     id           title  \\\n",
       "0  41edbc3e-2636-4806-bd87-4c19f273bb3c    Test Project   \n",
       "1  467f58b6-c640-493a-aceb-36dea9881778   To the Cosmos   \n",
       "2  6f6235eb-a751-43f2-8bad-506c884635db          Cosmos   \n",
       "3  b5a0f61f-6ae4-4036-97c1-beb0b5605a7a  Space Explorer   \n",
       "4  45ba1903-cafe-4e57-b7ec-1de402d32cc1        Interact   \n",
       "\n",
       "                        tagline  \\\n",
       "0                  some tagline   \n",
       "1  Where Dreams Touch the Stars   \n",
       "2            Enter the starline   \n",
       "3       To the space and beyond   \n",
       "4  create, connect, collaborate   \n",
       "\n",
       "                                         description  \\\n",
       "0                                   some description   \n",
       "1  Cosmos is a visionary project that propels you...   \n",
       "2  Lorem ipsum dolor sit, amet consectetur adipis...   \n",
       "3  Sky Explorer is an ambitious and groundbreakin...   \n",
       "4  Lorem ipsum dolor sit, amet consectetur adipis...   \n",
       "\n",
       "                                 userID  \\\n",
       "0  5f5a90e2-6601-480c-bc08-7592e06beacd   \n",
       "1  0db6b893-14aa-4ae5-8e57-692ca7943ab5   \n",
       "2  0db6b893-14aa-4ae5-8e57-692ca7943ab5   \n",
       "3  0db6b893-14aa-4ae5-8e57-692ca7943ab5   \n",
       "4  0db6b893-14aa-4ae5-8e57-692ca7943ab5   \n",
       "\n",
       "                                                tags                category  \n",
       "0                              ['coding', 'new-tag']     Health and Wellness  \n",
       "1  ['exploration', 'beyondearth', 'software', 'st...  Travel and Exploration  \n",
       "2                ['astronomy', 'physics', 'website']               Astronomy  \n",
       "3  ['space', 'exploration', 'app', 'spacetravel',...  Travel and Exploration  \n",
       "4                           ['js', 'ts', 'students']                    tech  "
      ]
     },
     "execution_count": 3,
     "metadata": {},
     "output_type": "execute_result"
    }
   ],
   "source": [
    "df.head()"
   ]
  },
  {
   "cell_type": "code",
   "execution_count": 4,
   "id": "70f25820-c59a-4382-9a18-44cd156692b8",
   "metadata": {},
   "outputs": [],
   "source": [
    "df['tagline']=df['tagline'].apply(lambda x:x.split())\n",
    "df['description']=df['description'].apply(lambda x:x.split())\n",
    "df['category']=df['category'].apply(lambda x:x.split())"
   ]
  },
  {
   "cell_type": "code",
   "execution_count": 5,
   "id": "78aa76c5-45a7-43bf-9853-64b2d1777d66",
   "metadata": {},
   "outputs": [],
   "source": [
    "import ast\n",
    "\n",
    "def parse(obj):\n",
    "    try:\n",
    "        obj = ast.literal_eval(obj)\n",
    "        return obj\n",
    "    except:\n",
    "        return obj\n",
    "\n",
    "df['tags']=df['tags'].apply(parse)"
   ]
  },
  {
   "cell_type": "code",
   "execution_count": 6,
   "id": "8af43b8c-5ddc-49f8-912a-6b4f22819c5f",
   "metadata": {},
   "outputs": [],
   "source": [
    "df['keys']=df['tagline']+df['description']+df['tags']+df['category']"
   ]
  },
  {
   "cell_type": "code",
   "execution_count": 7,
   "id": "0684a37a-8197-4926-b631-6124d8d4f6f2",
   "metadata": {},
   "outputs": [
    {
     "data": {
      "text/html": [
       "<div>\n",
       "<style scoped>\n",
       "    .dataframe tbody tr th:only-of-type {\n",
       "        vertical-align: middle;\n",
       "    }\n",
       "\n",
       "    .dataframe tbody tr th {\n",
       "        vertical-align: top;\n",
       "    }\n",
       "\n",
       "    .dataframe thead th {\n",
       "        text-align: right;\n",
       "    }\n",
       "</style>\n",
       "<table border=\"1\" class=\"dataframe\">\n",
       "  <thead>\n",
       "    <tr style=\"text-align: right;\">\n",
       "      <th></th>\n",
       "      <th>id</th>\n",
       "      <th>title</th>\n",
       "      <th>tagline</th>\n",
       "      <th>description</th>\n",
       "      <th>userID</th>\n",
       "      <th>tags</th>\n",
       "      <th>category</th>\n",
       "      <th>keys</th>\n",
       "    </tr>\n",
       "  </thead>\n",
       "  <tbody>\n",
       "    <tr>\n",
       "      <th>0</th>\n",
       "      <td>41edbc3e-2636-4806-bd87-4c19f273bb3c</td>\n",
       "      <td>Test Project</td>\n",
       "      <td>[some, tagline]</td>\n",
       "      <td>[some, description]</td>\n",
       "      <td>5f5a90e2-6601-480c-bc08-7592e06beacd</td>\n",
       "      <td>[coding, new-tag]</td>\n",
       "      <td>[Health, and, Wellness]</td>\n",
       "      <td>[some, tagline, some, description, coding, new...</td>\n",
       "    </tr>\n",
       "    <tr>\n",
       "      <th>1</th>\n",
       "      <td>467f58b6-c640-493a-aceb-36dea9881778</td>\n",
       "      <td>To the Cosmos</td>\n",
       "      <td>[Where, Dreams, Touch, the, Stars]</td>\n",
       "      <td>[Cosmos, is, a, visionary, project, that, prop...</td>\n",
       "      <td>0db6b893-14aa-4ae5-8e57-692ca7943ab5</td>\n",
       "      <td>[exploration, beyondearth, software, stargazin...</td>\n",
       "      <td>[Travel, and, Exploration]</td>\n",
       "      <td>[Where, Dreams, Touch, the, Stars, Cosmos, is,...</td>\n",
       "    </tr>\n",
       "    <tr>\n",
       "      <th>2</th>\n",
       "      <td>6f6235eb-a751-43f2-8bad-506c884635db</td>\n",
       "      <td>Cosmos</td>\n",
       "      <td>[Enter, the, starline]</td>\n",
       "      <td>[Lorem, ipsum, dolor, sit,, amet, consectetur,...</td>\n",
       "      <td>0db6b893-14aa-4ae5-8e57-692ca7943ab5</td>\n",
       "      <td>[astronomy, physics, website]</td>\n",
       "      <td>[Astronomy]</td>\n",
       "      <td>[Enter, the, starline, Lorem, ipsum, dolor, si...</td>\n",
       "    </tr>\n",
       "    <tr>\n",
       "      <th>3</th>\n",
       "      <td>b5a0f61f-6ae4-4036-97c1-beb0b5605a7a</td>\n",
       "      <td>Space Explorer</td>\n",
       "      <td>[To, the, space, and, beyond]</td>\n",
       "      <td>[Sky, Explorer, is, an, ambitious, and, ground...</td>\n",
       "      <td>0db6b893-14aa-4ae5-8e57-692ca7943ab5</td>\n",
       "      <td>[space, exploration, app, spacetravel, nextgen]</td>\n",
       "      <td>[Travel, and, Exploration]</td>\n",
       "      <td>[To, the, space, and, beyond, Sky, Explorer, i...</td>\n",
       "    </tr>\n",
       "    <tr>\n",
       "      <th>4</th>\n",
       "      <td>45ba1903-cafe-4e57-b7ec-1de402d32cc1</td>\n",
       "      <td>Interact</td>\n",
       "      <td>[create,, connect,, collaborate]</td>\n",
       "      <td>[Lorem, ipsum, dolor, sit,, amet, consectetur,...</td>\n",
       "      <td>0db6b893-14aa-4ae5-8e57-692ca7943ab5</td>\n",
       "      <td>[js, ts, students]</td>\n",
       "      <td>[tech]</td>\n",
       "      <td>[create,, connect,, collaborate, Lorem, ipsum,...</td>\n",
       "    </tr>\n",
       "  </tbody>\n",
       "</table>\n",
       "</div>"
      ],
      "text/plain": [
       "                                     id           title  \\\n",
       "0  41edbc3e-2636-4806-bd87-4c19f273bb3c    Test Project   \n",
       "1  467f58b6-c640-493a-aceb-36dea9881778   To the Cosmos   \n",
       "2  6f6235eb-a751-43f2-8bad-506c884635db          Cosmos   \n",
       "3  b5a0f61f-6ae4-4036-97c1-beb0b5605a7a  Space Explorer   \n",
       "4  45ba1903-cafe-4e57-b7ec-1de402d32cc1        Interact   \n",
       "\n",
       "                              tagline  \\\n",
       "0                     [some, tagline]   \n",
       "1  [Where, Dreams, Touch, the, Stars]   \n",
       "2              [Enter, the, starline]   \n",
       "3       [To, the, space, and, beyond]   \n",
       "4    [create,, connect,, collaborate]   \n",
       "\n",
       "                                         description  \\\n",
       "0                                [some, description]   \n",
       "1  [Cosmos, is, a, visionary, project, that, prop...   \n",
       "2  [Lorem, ipsum, dolor, sit,, amet, consectetur,...   \n",
       "3  [Sky, Explorer, is, an, ambitious, and, ground...   \n",
       "4  [Lorem, ipsum, dolor, sit,, amet, consectetur,...   \n",
       "\n",
       "                                 userID  \\\n",
       "0  5f5a90e2-6601-480c-bc08-7592e06beacd   \n",
       "1  0db6b893-14aa-4ae5-8e57-692ca7943ab5   \n",
       "2  0db6b893-14aa-4ae5-8e57-692ca7943ab5   \n",
       "3  0db6b893-14aa-4ae5-8e57-692ca7943ab5   \n",
       "4  0db6b893-14aa-4ae5-8e57-692ca7943ab5   \n",
       "\n",
       "                                                tags  \\\n",
       "0                                  [coding, new-tag]   \n",
       "1  [exploration, beyondearth, software, stargazin...   \n",
       "2                      [astronomy, physics, website]   \n",
       "3    [space, exploration, app, spacetravel, nextgen]   \n",
       "4                                 [js, ts, students]   \n",
       "\n",
       "                     category  \\\n",
       "0     [Health, and, Wellness]   \n",
       "1  [Travel, and, Exploration]   \n",
       "2                 [Astronomy]   \n",
       "3  [Travel, and, Exploration]   \n",
       "4                      [tech]   \n",
       "\n",
       "                                                keys  \n",
       "0  [some, tagline, some, description, coding, new...  \n",
       "1  [Where, Dreams, Touch, the, Stars, Cosmos, is,...  \n",
       "2  [Enter, the, starline, Lorem, ipsum, dolor, si...  \n",
       "3  [To, the, space, and, beyond, Sky, Explorer, i...  \n",
       "4  [create,, connect,, collaborate, Lorem, ipsum,...  "
      ]
     },
     "execution_count": 7,
     "metadata": {},
     "output_type": "execute_result"
    }
   ],
   "source": [
    "df.head()"
   ]
  },
  {
   "cell_type": "code",
   "execution_count": 8,
   "id": "b42c4948-0ebb-409b-a358-423ab71415e4",
   "metadata": {},
   "outputs": [],
   "source": [
    "from nltk.stem.porter import PorterStemmer\n",
    "from nltk.corpus import stopwords\n",
    "import string\n",
    "\n",
    "ps=PorterStemmer()\n",
    "\n",
    "def stem(x):\n",
    "    L = []\n",
    "\n",
    "    for i in x:\n",
    "        i=i.lower()\n",
    "        if i not in L and i not in stopwords.words(\"english\") and i not in string.punctuation:\n",
    "            L.append(ps.stem(i.lower()))\n",
    "    return \" \".join(L)"
   ]
  },
  {
   "cell_type": "code",
   "execution_count": 9,
   "id": "e157fc4a-269b-4a5c-891d-5aa657a1dfe1",
   "metadata": {},
   "outputs": [],
   "source": [
    "df.loc[:,'keys']=df['keys'].apply(stem)"
   ]
  },
  {
   "cell_type": "code",
   "execution_count": 10,
   "id": "40f63741-40b7-47ca-82fc-bcd6964f9ea9",
   "metadata": {},
   "outputs": [],
   "source": [
    "df=df[['id','title','keys']]"
   ]
  },
  {
   "cell_type": "code",
   "execution_count": 11,
   "id": "d50aa726-df21-48f8-8fda-a58be4bf5e50",
   "metadata": {},
   "outputs": [
    {
     "data": {
      "text/html": [
       "<div>\n",
       "<style scoped>\n",
       "    .dataframe tbody tr th:only-of-type {\n",
       "        vertical-align: middle;\n",
       "    }\n",
       "\n",
       "    .dataframe tbody tr th {\n",
       "        vertical-align: top;\n",
       "    }\n",
       "\n",
       "    .dataframe thead th {\n",
       "        text-align: right;\n",
       "    }\n",
       "</style>\n",
       "<table border=\"1\" class=\"dataframe\">\n",
       "  <thead>\n",
       "    <tr style=\"text-align: right;\">\n",
       "      <th></th>\n",
       "      <th>id</th>\n",
       "      <th>title</th>\n",
       "      <th>keys</th>\n",
       "    </tr>\n",
       "  </thead>\n",
       "  <tbody>\n",
       "    <tr>\n",
       "      <th>62</th>\n",
       "      <td>e8b38942-d6d0-41a4-a000-dfcf02207e24</td>\n",
       "      <td>Eco-Friendly Adventure Tours</td>\n",
       "      <td>explor natur respons offer eco-friendli advent...</td>\n",
       "    </tr>\n",
       "    <tr>\n",
       "      <th>63</th>\n",
       "      <td>84274436-16c5-45cc-98d4-0e8a7013aa2e</td>\n",
       "      <td>Green Transportation Solutions</td>\n",
       "      <td>eco-friendli commut made easi develop comprehe...</td>\n",
       "    </tr>\n",
       "    <tr>\n",
       "      <th>64</th>\n",
       "      <td>4468fecd-37cd-4f84-a998-ac868c0a3268</td>\n",
       "      <td>Sustainable Travel Accommodations</td>\n",
       "      <td>stay green explor curat network eco-friendli a...</td>\n",
       "    </tr>\n",
       "    <tr>\n",
       "      <th>65</th>\n",
       "      <td>8d366caf-ce12-4a6a-95ad-08b2cada8c18</td>\n",
       "      <td>Eco-Friendly Travel Booking Service</td>\n",
       "      <td>travel sustain us creat book platform promot e...</td>\n",
       "    </tr>\n",
       "    <tr>\n",
       "      <th>66</th>\n",
       "      <td>e00a9008-a1b4-4275-8d15-b5c977a5c7b6</td>\n",
       "      <td>Global Eco-Tourism Initiative</td>\n",
       "      <td>preserv natur respons travel launch global ini...</td>\n",
       "    </tr>\n",
       "  </tbody>\n",
       "</table>\n",
       "</div>"
      ],
      "text/plain": [
       "                                      id                                title  \\\n",
       "62  e8b38942-d6d0-41a4-a000-dfcf02207e24         Eco-Friendly Adventure Tours   \n",
       "63  84274436-16c5-45cc-98d4-0e8a7013aa2e       Green Transportation Solutions   \n",
       "64  4468fecd-37cd-4f84-a998-ac868c0a3268    Sustainable Travel Accommodations   \n",
       "65  8d366caf-ce12-4a6a-95ad-08b2cada8c18  Eco-Friendly Travel Booking Service   \n",
       "66  e00a9008-a1b4-4275-8d15-b5c977a5c7b6        Global Eco-Tourism Initiative   \n",
       "\n",
       "                                                 keys  \n",
       "62  explor natur respons offer eco-friendli advent...  \n",
       "63  eco-friendli commut made easi develop comprehe...  \n",
       "64  stay green explor curat network eco-friendli a...  \n",
       "65  travel sustain us creat book platform promot e...  \n",
       "66  preserv natur respons travel launch global ini...  "
      ]
     },
     "execution_count": 11,
     "metadata": {},
     "output_type": "execute_result"
    }
   ],
   "source": [
    "df.tail()"
   ]
  },
  {
   "cell_type": "code",
   "execution_count": 12,
   "id": "d29b6a45-1442-464e-8301-95b9b631ddc9",
   "metadata": {},
   "outputs": [],
   "source": [
    "from sklearn.feature_extraction.text import CountVectorizer\n",
    "\n",
    "cv = CountVectorizer(max_features=5000)"
   ]
  },
  {
   "cell_type": "code",
   "execution_count": 13,
   "id": "37ac2ff5-51f7-4f52-a789-263aa29fcd3a",
   "metadata": {},
   "outputs": [],
   "source": [
    "vectors = cv.fit_transform(df['keys']).toarray()"
   ]
  },
  {
   "cell_type": "code",
   "execution_count": 14,
   "id": "7d67d50e-151c-4ba6-a75a-12f5e59df314",
   "metadata": {},
   "outputs": [],
   "source": [
    "from sklearn.metrics.pairwise import cosine_similarity\n",
    "\n",
    "similarities = cosine_similarity(vectors)"
   ]
  },
  {
   "cell_type": "code",
   "execution_count": 15,
   "id": "225d415f-64e3-4e63-98bb-b54c97e1cb19",
   "metadata": {},
   "outputs": [
    {
     "data": {
      "text/plain": [
       "(67, 67)"
      ]
     },
     "execution_count": 15,
     "metadata": {},
     "output_type": "execute_result"
    }
   ],
   "source": [
    "similarities.shape"
   ]
  },
  {
   "cell_type": "code",
   "execution_count": 16,
   "id": "8231e6ad-d843-44c6-af7d-f195995702a4",
   "metadata": {},
   "outputs": [],
   "source": [
    "def recommend(project_id):\n",
    "    try:\n",
    "        movie_index = df[df['id'].str.lower()==project_id.lower()].index[0]\n",
    "        distances = similarities[movie_index]\n",
    "        movie_objs = sorted(list(enumerate(distances)), reverse=True, key=lambda x:x[1])[1:6]\n",
    "\n",
    "        return [(df.iloc[i[0]].id, df.iloc[i[0]].title) for i in movie_objs]\n",
    "    except:\n",
    "        return []"
   ]
  },
  {
   "cell_type": "code",
   "execution_count": 17,
   "id": "00f124e0-5f5c-49da-b139-5e15704c8c45",
   "metadata": {},
   "outputs": [
    {
     "data": {
      "text/plain": [
       "[('2340c93c-4e74-458a-b7f4-4f7546cb0bb5',\n",
       "  'Eco-Friendly Travel Accommodations'),\n",
       " ('69aff6b3-d087-4685-a1c1-01cc579cffbc',\n",
       "  'Eco-Friendly Travel Booking Service'),\n",
       " ('8d366caf-ce12-4a6a-95ad-08b2cada8c18',\n",
       "  'Eco-Friendly Travel Booking Service'),\n",
       " ('b12370f6-2203-495f-b7d9-bead7917cb55', 'Sustainable Tourism Booking'),\n",
       " ('e8b38942-d6d0-41a4-a000-dfcf02207e24', 'Eco-Friendly Adventure Tours')]"
      ]
     },
     "execution_count": 17,
     "metadata": {},
     "output_type": "execute_result"
    }
   ],
   "source": [
    "# for project: Sustainable Travel Accommodations\n",
    "recommend(\"4468fecd-37cd-4f84-a998-ac868c0a3268\")"
   ]
  },
  {
   "cell_type": "code",
   "execution_count": 19,
   "id": "531541a8-567a-4765-aeeb-b67cf441085a",
   "metadata": {},
   "outputs": [],
   "source": [
    "import pickle\n",
    "\n",
    "with open('../../models/projects/similarities.pickle', 'wb') as f:\n",
    "    pickle.dump(similarities, f)"
   ]
  }
 ],
 "metadata": {
  "kernelspec": {
   "display_name": "Python 3 (ipykernel)",
   "language": "python",
   "name": "python3"
  },
  "language_info": {
   "codemirror_mode": {
    "name": "ipython",
    "version": 3
   },
   "file_extension": ".py",
   "mimetype": "text/x-python",
   "name": "python",
   "nbconvert_exporter": "python",
   "pygments_lexer": "ipython3",
   "version": "3.11.5"
  }
 },
 "nbformat": 4,
 "nbformat_minor": 5
}
